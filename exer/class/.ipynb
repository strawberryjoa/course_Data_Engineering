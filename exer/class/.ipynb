{
 "cells": [
  {
   "cell_type": "code",
   "execution_count": 3,
   "id": "8a661d40-82fc-4f91-9701-8312da46cd98",
   "metadata": {},
   "outputs": [],
   "source": [
    "import numpy as np"
   ]
  },
  {
   "cell_type": "code",
   "execution_count": 101,
   "id": "ee5e8579-3da2-4b6a-9bde-dabf6f5e0239",
   "metadata": {},
   "outputs": [
    {
     "name": "stdout",
     "output_type": "stream",
     "text": [
      "[0 1 2]\n",
      "[3 4 5 6 7 8]\n",
      "[3 5 7]\n",
      "[1 3 5 7 9]\n"
     ]
    }
   ],
   "source": [
    "\"\"\"\n",
    "NumPy Array Attributes\n",
    "\"\"\"\n",
    "\n",
    "# Creating an array\n",
    "\n",
    "print(np.arange(3))\n",
    "print(np.arange(3, 9))\n",
    "print(np.arange(3, 9, 2))\n",
    "print(np.arange(1, 11, 2))"
   ]
  },
  {
   "cell_type": "code",
   "execution_count": 506,
   "id": "84e5fe33-eca8-4d58-9b2c-7571baa20bbb",
   "metadata": {},
   "outputs": [
    {
     "name": "stdout",
     "output_type": "stream",
     "text": [
      "[9 4 0 1 9 0]\n",
      "[[1 8 9 0]\n",
      " [8 6 4 3]\n",
      " [0 4 6 8]]\n",
      "[[[1 8 4 1 3]\n",
      "  [6 5 3 9 6]\n",
      "  [9 1 9 4 2]\n",
      "  [6 7 8 8 9]]\n",
      "\n",
      " [[2 0 6 7 8]\n",
      "  [1 7 1 4 0]\n",
      "  [8 5 4 7 8]\n",
      "  [8 2 6 2 8]]\n",
      "\n",
      " [[8 6 6 5 6]\n",
      "  [0 0 6 9 1]\n",
      "  [8 9 1 2 8]\n",
      "  [9 9 5 0 2]]]\n"
     ]
    }
   ],
   "source": [
    "# Random number generator\n",
    "\n",
    "np.random.seed(10)\n",
    "\n",
    "arr1 = np.random.randint(10, size=6)\n",
    "print(arr1)\n",
    "\n",
    "arr2 = np.random.randint(10, size=(3, 4))\n",
    "print(arr2)\n",
    "\n",
    "arr3 = np.random.randint(10, size=(3, 4, 5))\n",
    "print(arr3)"
   ]
  },
  {
   "cell_type": "code",
   "execution_count": 67,
   "id": "f1b7f34d-c30e-4b75-903c-c4460ede801b",
   "metadata": {},
   "outputs": [
    {
     "name": "stdout",
     "output_type": "stream",
     "text": [
      "[[3 2 4 9]\n",
      " [7 4 9 4]\n",
      " [1 2 7 2]]\n",
      "arr2.ndim =  2\n",
      "arr2.ndim =  (3, 4)\n",
      "arr2.ndim =  12\n",
      "arr2.ndim =  int32\n",
      "arr2.ndim =  4\n",
      "arr2.ndim =  48\n"
     ]
    }
   ],
   "source": [
    "# Attributes\n",
    "\n",
    "print(arr2)\n",
    "\n",
    "print(\"arr2.ndim = \", arr2.ndim)\n",
    "print(\"arr2.ndim = \", arr2.shape) # 중요 #\n",
    "print(\"arr2.ndim = \", arr2.size) # 중요 #\n",
    "\n",
    "print(\"arr2.ndim = \", arr2.dtype) # 중요 #\n",
    "print(\"arr2.ndim = \", arr2.itemsize)\n",
    "print(\"arr2.ndim = \", arr2.nbytes)"
   ]
  },
  {
   "cell_type": "code",
   "execution_count": 515,
   "id": "104a6356-d2a9-4bad-ae71-1ceed4c96142",
   "metadata": {},
   "outputs": [
    {
     "name": "stdout",
     "output_type": "stream",
     "text": [
      "[0 1 2 3 4 5 6 7 8 9]\n",
      "[3 4 5 6]\n",
      "[0 1 2 3 4]\n",
      "[5 6 7 8 9]\n",
      "[0 3 6 9]\n",
      "[0 2 4 6]\n"
     ]
    }
   ],
   "source": [
    "\"\"\"\n",
    "Slicing\n",
    "\"\"\"\n",
    "\n",
    "arr = np.arange(10)\n",
    "print(arr)\n",
    "\n",
    "print(arr[3:7])\n",
    "print(arr[:5])\n",
    "print(arr[5:])\n",
    "print(arr[::3])\n",
    "print(arr[2:8:2])"
   ]
  },
  {
   "cell_type": "code",
   "execution_count": 74,
   "id": "c5b827f5-bb9c-47fe-bc5a-594484c2e519",
   "metadata": {},
   "outputs": [
    {
     "name": "stdout",
     "output_type": "stream",
     "text": [
      "[[5 0 3 3 7 9 3 5]\n",
      " [2 4 7 6 8 8 1 6]\n",
      " [7 7 8 1 5 9 8 9]\n",
      " [4 3 0 3 5 0 2 3]\n",
      " [8 1 3 3 3 7 0 1]\n",
      " [9 9 0 4 7 3 2 7]]\n",
      "[[5 0 2]\n",
      " [3 7 0]]\n"
     ]
    }
   ],
   "source": [
    "# Multi-dimensional subarrays\n",
    "\n",
    "np.random.seed(0)\n",
    "arr = np.random.randint(10, size=(6, 8))\n",
    "print(arr)\n",
    "\n",
    "arr_sub = arr[3:5, 4:7]\n",
    "print(arr_sub)"
   ]
  },
  {
   "cell_type": "code",
   "execution_count": 519,
   "id": "73832fd4-5ae3-49bf-bd9a-08dc7713eb33",
   "metadata": {},
   "outputs": [
    {
     "name": "stdout",
     "output_type": "stream",
     "text": [
      "[[5 8 9 5]\n",
      " [0 0 1 7]\n",
      " [6 9 2 4]] \n",
      "\n",
      "[[5 8]\n",
      " [0 0]] \n",
      "\n",
      "[[99  8]\n",
      " [ 0  0]] \n",
      "\n",
      "[[99  8  9  5]\n",
      " [ 0  0  1  7]\n",
      " [ 6  9  2  4]]\n"
     ]
    }
   ],
   "source": [
    "\"\"\"\n",
    "Subarrays as no-copy views\n",
    "\"\"\"\n",
    "np.random.seed(1)\n",
    "arr = np.random.randint(10, size=(3,4))\n",
    "print(arr, '\\n')\n",
    "\n",
    "arr_sub = arr[:2, :2]\n",
    "print(arr_sub, '\\n')\n",
    "\n",
    "arr_sub[0,0] = 99\n",
    "print(arr_sub, '\\n')\n",
    "print(arr)"
   ]
  },
  {
   "cell_type": "code",
   "execution_count": 535,
   "id": "4b789d36-21ef-42bf-9865-05faa066325d",
   "metadata": {},
   "outputs": [
    {
     "name": "stdout",
     "output_type": "stream",
     "text": [
      "[[8 8 6 2]\n",
      " [8 7 2 1]\n",
      " [5 4 4 5]] \n",
      "\n",
      "[[8 8]\n",
      " [8 7]] \n",
      "\n",
      "[[8 8 6 2]\n",
      " [8 7 2 1]\n",
      " [5 4 4 5]]\n"
     ]
    }
   ],
   "source": [
    "# .copy()\n",
    "\n",
    "np.random.seed(2)\n",
    "arr = np.random.randint(10, size=(3, 4))\n",
    "print(arr,'\\n')\n",
    "\n",
    "arr_sub = arr[:2, :2].copy()\n",
    "print(arr_sub, '\\n')\n",
    "\n",
    "arr_sub[0][0] = 99\n",
    "print(arr)"
   ]
  },
  {
   "cell_type": "code",
   "execution_count": 549,
   "id": "8895581b-4d87-4f5a-b30a-1a31080802e5",
   "metadata": {},
   "outputs": [
    {
     "name": "stdout",
     "output_type": "stream",
     "text": [
      "[1 2 3 4 5 6 7 8 9] \n",
      "\n",
      "[[1 2 3]\n",
      " [4 5 6]\n",
      " [7 8 9]] \n",
      "\n",
      "[[1]\n",
      " [2]\n",
      " [3]\n",
      " [4]\n",
      " [5]\n",
      " [6]\n",
      " [7]\n",
      " [8]\n",
      " [9]] \n",
      "\n"
     ]
    }
   ],
   "source": [
    "\"\"\"\n",
    "Reshaping of Arrays\n",
    "\"\"\"\n",
    "arr = np.arange(1,10)\n",
    "print(arr, '\\n')\n",
    "\n",
    "# reshape()\n",
    "grid = arr.reshape(3,3)\n",
    "print(grid, '\\n')\n",
    "\n",
    "grid_sub = arr.reshape(9,1)\n",
    "print(grid_sub, '\\n')"
   ]
  },
  {
   "cell_type": "code",
   "execution_count": 569,
   "id": "49812869-3d42-47e8-bc8f-942b766185bc",
   "metadata": {},
   "outputs": [
    {
     "name": "stdout",
     "output_type": "stream",
     "text": [
      "[1 2 3]\n",
      "arr_ndim =  1\n",
      "arr.shape =  (3,) \n",
      "\n",
      "[[1 2 3]]\n",
      "arr_new.ndim =  2\n",
      "arr_new.shape =  (1, 3) \n",
      "\n",
      "[[1]\n",
      " [2]\n",
      " [3]]\n",
      "arr_new1.ndim =  2\n",
      "arr_new1.shape =  (3, 1)\n"
     ]
    }
   ],
   "source": [
    "# np.newaxis\n",
    "\n",
    "arr = np.array([1, 2, 3])\n",
    "print(arr)\n",
    "print(\"arr_ndim = \", arr.ndim) # 차원 개수\n",
    "print(\"arr.shape = \", arr.shape, '\\n') # 배열 차원 크기\n",
    "\n",
    "arr_new = arr[np.newaxis, :] # R^1x3\n",
    "print(arr_new)\n",
    "print(\"arr_new.ndim = \", arr_new.ndim) # 차원 개수\n",
    "print(\"arr_new.shape = \", arr_new.shape, '\\n') # 배열 차원 크기\n",
    "\n",
    "arr_new1 = arr[:, np.newaxis] # R^3x1\n",
    "print(arr_new1)\n",
    "print(\"arr_new1.ndim = \", arr_new1.ndim) # 차원 개수\n",
    "print(\"arr_new1.shape = \", arr_new1.shape) # 배열 차원 크기"
   ]
  },
  {
   "cell_type": "code",
   "execution_count": 22,
   "id": "5544de71-5ce7-40b8-9bdb-f1440a70288b",
   "metadata": {},
   "outputs": [
    {
     "name": "stdout",
     "output_type": "stream",
     "text": [
      "[1 2 3 4 5 6 7 8 9] \n",
      "\n",
      "[[1 2 3]\n",
      " [4 5 6]\n",
      " [7 8 9]] \n",
      "\n",
      "[1 2 3 4 5 6 7 8 9] \n",
      "\n"
     ]
    }
   ],
   "source": [
    "\"\"\"\n",
    "Array Concatenation\n",
    "\"\"\"\n",
    "# np.concatenate, np.vstack(), np.hstack()\n",
    "arr = [1, 2, 3, 4, 5, 6, 7, 8, 9]\n",
    "arr_1, arr_2, arr_3 = np.split(arr, [3,6])\n",
    "\n",
    "arr_total = np.concatenate([arr_1, arr_2, arr_3])\n",
    "print(arr_total, '\\n')\n",
    "\n",
    "arr_total = np.vstack([arr_1, arr_2, arr_3]) # vertical\n",
    "print(arr_total, '\\n')\n",
    "\n",
    "arr_total = np.hstack([arr_1, arr_2, arr_3]) # horizontal\n",
    "print(arr_total, '\\n')\n"
   ]
  },
  {
   "cell_type": "code",
   "execution_count": 54,
   "id": "33a45662-f474-467e-a2ff-17920bc5f8ad",
   "metadata": {},
   "outputs": [
    {
     "name": "stdout",
     "output_type": "stream",
     "text": [
      "[[ 1  2  3  7  8  9 13 14 15]\n",
      " [ 4  5  6 10 11 12 16 17 18]]\n",
      "[[9 4 0]\n",
      " [1 9 0]\n",
      " [1 8 9]\n",
      " [0 8 6]\n",
      " [4 3 0]]\n",
      "[[[4 6]\n",
      "  [8 1]\n",
      "  [8 4]]\n",
      "\n",
      " [[1 3]\n",
      "  [6 5]\n",
      "  [3 9]]\n",
      "\n",
      " [[6 9]\n",
      "  [1 9]\n",
      "  [4 2]]\n",
      "\n",
      " [[6 7]\n",
      "  [8 8]\n",
      "  [9 2]]\n",
      "\n",
      " [[0 6]\n",
      "  [7 8]\n",
      "  [1 7]]]\n"
     ]
    }
   ],
   "source": [
    "arr_1 = np.array([[1, 2, 3], [4, 5, 6]])\n",
    "arr_2 = np.array([[7, 8, 9], [10, 11, 12]])\n",
    "arr_3 = np.array([[13, 14, 15], [16, 17, 18]])\n",
    "\n",
    "arr_total = np.concatenate([arr_1, arr_2, arr_3], axis=1) # arr_1, arr_2, arr_3 -> size(2, 3)\n",
    "                                                          # axis = 0 -> rows == 2, axis = 1 -> column == 3\n",
    "print(arr_total)\n",
    "\n",
    "# axis exam\n",
    "\n",
    "np.random.seed(10)\n",
    "array_dim2 = np.random.randint(10, size=(5, 3))\n",
    "print(array)\n",
    "\n",
    "np.sum(array, axis = 0)\n",
    "np.sum(array, axis = 1)\n",
    "\n",
    "array_dim3 = np.random.randint(10, size=(5, 3, 2))\n",
    "print(array_dim3)\n",
    "\n"
   ]
  },
  {
   "cell_type": "code",
   "execution_count": 44,
   "id": "01e2240d-d0f6-43a4-9285-05f082421466",
   "metadata": {},
   "outputs": [
    {
     "name": "stdout",
     "output_type": "stream",
     "text": [
      "[1, 2, 3, 99, 99, 3, 2, 1] \n",
      "\n",
      "[1 2 3] [99 99] [3 2 1]\n"
     ]
    }
   ],
   "source": [
    "\"\"\"\n",
    "Array Splitting\n",
    "\"\"\"\n",
    "arr = [1, 2, 3, 99, 99, 3, 2, 1]\n",
    "print(arr, '\\n')\n",
    "\n",
    "arr_1, arr_2, arr_3 = np.split(arr, [3, 5])\n",
    "print(arr_1, arr_2, arr_3)"
   ]
  },
  {
   "cell_type": "code",
   "execution_count": null,
   "id": "1474efec-8f8f-4fe7-af06-ad004119d71a",
   "metadata": {},
   "outputs": [],
   "source": []
  }
 ],
 "metadata": {
  "kernelspec": {
   "display_name": "Python 3",
   "language": "python",
   "name": "python3"
  },
  "language_info": {
   "codemirror_mode": {
    "name": "ipython",
    "version": 3
   },
   "file_extension": ".py",
   "mimetype": "text/x-python",
   "name": "python",
   "nbconvert_exporter": "python",
   "pygments_lexer": "ipython3",
   "version": "3.8.8"
  }
 },
 "nbformat": 4,
 "nbformat_minor": 5
}
