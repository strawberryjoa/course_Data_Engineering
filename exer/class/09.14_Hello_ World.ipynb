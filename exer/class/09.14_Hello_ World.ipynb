{
 "cells": [
  {
   "cell_type": "code",
   "execution_count": 4,
   "id": "18630c55-9d80-43b1-8973-183924c5f2fb",
   "metadata": {},
   "outputs": [
    {
     "name": "stdout",
     "output_type": "stream",
     "text": [
      "Hello World!\n",
      "100\n",
      "3.14\n",
      "My name is Yumin Kim\n"
     ]
    }
   ],
   "source": [
    "\"\"\"\n",
    "print() function\n",
    "실행 == ctrl + Enter\n",
    "새로운 셀 == shift + Enter\n",
    "\"\"\"\n",
    "\n",
    "print(\"Hello World!\")\n",
    "print(100)\n",
    "pi = 3.14\n",
    "print(pi)\n",
    "\n",
    "intro = \"My name is \"\n",
    "name = \"Yumin Kim\"\n",
    "print(intro + name)\n",
    "print(intro + name + \"!\")\n"
   ]
  },
  {
   "cell_type": "code",
   "execution_count": 15,
   "id": "abc76081-151e-4b37-8e48-b8c7a8b459f3",
   "metadata": {},
   "outputs": [],
   "source": [
    "\"\"\"\n",
    "Variables\n",
    "\"\"\"\n",
    "\n",
    "# 나를 표현할 수 있는 정보 세 가지 이상을 변수로 선언하시오.\n",
    "\n",
    "user_name = \"Yumin Kim\"\n",
    "user_age = \"22\"\n",
    "user_hometown = \"Suwon\"\n"
   ]
  },
  {
   "cell_type": "code",
   "execution_count": 17,
   "id": "7b9685ad-bfc6-477a-9f7c-26ceb9ac6ba3",
   "metadata": {},
   "outputs": [],
   "source": [
    "\"\"\"\n",
    "Data Types: Integers\n",
    "\"\"\"\n",
    "\n",
    "# 집에 있는 세 가지 이상의 사물의 갯수를 정수 변수로 표현하시오.\n",
    "\n",
    "room = 4\n",
    "bed = 3\n",
    "sofa = 1\n",
    "computer = 3"
   ]
  },
  {
   "cell_type": "code",
   "execution_count": 19,
   "id": "292a6081-b75a-47bb-817a-5d17bf2eb30f",
   "metadata": {},
   "outputs": [],
   "source": [
    "\"\"\"\n",
    "Data Types: Real Numbers\n",
    "\"\"\"\n",
    "\n",
    "# 본인이 알고 있는 세 개의 실수를 변수로 정의하시오.\n",
    "\n",
    "PI = 3.14\n",
    "EXP = 2.718\n"
   ]
  },
  {
   "cell_type": "code",
   "execution_count": 20,
   "id": "acbc080e-e1c5-412b-a565-8ed376a5856a",
   "metadata": {},
   "outputs": [],
   "source": [
    "\"\"\"\n",
    "Data Types: String\n",
    "\"\"\"\n",
    "\n",
    "# 본인이 좋아하는 세 가지를 문자열로 정의하시오.\n",
    "\n",
    "favorite_motto = \"A little knowledge is dangerous\"\n"
   ]
  },
  {
   "cell_type": "code",
   "execution_count": 23,
   "id": "21811a1c-d89c-4a18-abb7-3ca85ca70b0d",
   "metadata": {},
   "outputs": [
    {
     "name": "stdout",
     "output_type": "stream",
     "text": [
      "8\n"
     ]
    }
   ],
   "source": [
    "\"\"\"\n",
    "x-Equals Operations\n",
    "\"\"\"\n",
    "\n",
    "a = 2\n",
    "a **= 3\n",
    "print(a)"
   ]
  },
  {
   "cell_type": "code",
   "execution_count": 24,
   "id": "16820561-2d7d-4061-8a22-cdfc82713c74",
   "metadata": {},
   "outputs": [
    {
     "ename": "NameError",
     "evalue": "name 'my_name' is not defined",
     "output_type": "error",
     "traceback": [
      "\u001b[1;31m---------------------------------------------------------------------------\u001b[0m",
      "\u001b[1;31mNameError\u001b[0m                                 Traceback (most recent call last)",
      "\u001b[1;32m<ipython-input-24-fd5a08be115d>\u001b[0m in \u001b[0;36m<module>\u001b[1;34m\u001b[0m\n\u001b[0;32m      5\u001b[0m \u001b[1;31m# Name Error\u001b[0m\u001b[1;33m\u001b[0m\u001b[1;33m\u001b[0m\u001b[1;33m\u001b[0m\u001b[0m\n\u001b[0;32m      6\u001b[0m \u001b[1;33m\u001b[0m\u001b[0m\n\u001b[1;32m----> 7\u001b[1;33m \u001b[0mprint\u001b[0m\u001b[1;33m(\u001b[0m\u001b[0mmy_name\u001b[0m\u001b[1;33m)\u001b[0m\u001b[1;33m\u001b[0m\u001b[1;33m\u001b[0m\u001b[0m\n\u001b[0m\u001b[0;32m      8\u001b[0m \u001b[0mmy_name\u001b[0m \u001b[1;33m=\u001b[0m \u001b[1;34m\"Yumin Kim\"\u001b[0m\u001b[1;33m\u001b[0m\u001b[1;33m\u001b[0m\u001b[0m\n",
      "\u001b[1;31mNameError\u001b[0m: name 'my_name' is not defined"
     ]
    }
   ],
   "source": [
    "\"\"\"\n",
    "Errors\n",
    "\"\"\"\n",
    "\n",
    "# Name Error\n",
    "\n",
    "print(my_name)\n",
    "my_name = \"Yumin Kim\""
   ]
  }
 ],
 "metadata": {
  "kernelspec": {
   "display_name": "Python 3",
   "language": "python",
   "name": "python3"
  },
  "language_info": {
   "codemirror_mode": {
    "name": "ipython",
    "version": 3
   },
   "file_extension": ".py",
   "mimetype": "text/x-python",
   "name": "python",
   "nbconvert_exporter": "python",
   "pygments_lexer": "ipython3",
   "version": "3.8.8"
  }
 },
 "nbformat": 4,
 "nbformat_minor": 5
}
