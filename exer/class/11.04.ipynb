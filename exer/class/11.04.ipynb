{
 "cells": [
  {
   "cell_type": "code",
   "execution_count": 19,
   "id": "36a16c29-a08f-487d-a2d4-d55f014e6cfe",
   "metadata": {},
   "outputs": [
    {
     "name": "stdout",
     "output_type": "stream",
     "text": [
      "object\n",
      "int32\n"
     ]
    }
   ],
   "source": [
    "\"\"\"\n",
    "None: Pythonic misssing data\n",
    "\"\"\"\n",
    "import numpy as np\n",
    "import pandas as pd\n",
    "\n",
    "# None objects as missing values\n",
    "arr1 = np.array([1, None, 3, 4])\n",
    "print(arr1.dtype)\n",
    "\n",
    "arr2 = np.array([1, 2, 3, 4])\n",
    "print(arr2.dtype)"
   ]
  },
  {
   "cell_type": "code",
   "execution_count": 33,
   "id": "b3b79bce-44fd-49aa-b67c-f59400577450",
   "metadata": {},
   "outputs": [
    {
     "data": {
      "text/plain": [
       "nan"
      ]
     },
     "execution_count": 33,
     "metadata": {},
     "output_type": "execute_result"
    }
   ],
   "source": [
    "# Python objects are incompatible with numpy and pandas operations\n",
    "arr1.sum()"
   ]
  },
  {
   "cell_type": "code",
   "execution_count": null,
   "id": "3f5b8170-d781-4431-bed7-987d9b05f522",
   "metadata": {},
   "outputs": [],
   "source": []
  },
  {
   "cell_type": "code",
   "execution_count": 21,
   "id": "f3eae0c6-629a-4146-8d6f-78360356af55",
   "metadata": {},
   "outputs": [
    {
     "data": {
      "text/plain": [
       "dtype('float64')"
      ]
     },
     "execution_count": 21,
     "metadata": {},
     "output_type": "execute_result"
    }
   ],
   "source": [
    "\"\"\"\n",
    "NaN: Missing Numerical Data\n",
    "\"\"\"\n",
    "\n",
    "arr1 = np.array([1, np.nan, 3, 4])\n",
    "arr1.dtype"
   ]
  },
  {
   "cell_type": "code",
   "execution_count": 25,
   "id": "f7493638-e806-4326-b740-a5170b3db16c",
   "metadata": {},
   "outputs": [
    {
     "name": "stdout",
     "output_type": "stream",
     "text": [
      "nan\n",
      "nan\n",
      "nan\n"
     ]
    }
   ],
   "source": [
    "# Arithmetic with NaN will be another Nan\n",
    "print(1 + np.nan)\n",
    "print(1 * np.nan)\n",
    "print(np.nan / np.nan)"
   ]
  },
  {
   "cell_type": "code",
   "execution_count": 35,
   "id": "b41fbcdc-b313-4033-a5c8-58df4eadc3f6",
   "metadata": {},
   "outputs": [
    {
     "data": {
      "text/plain": [
       "8.0"
      ]
     },
     "execution_count": 35,
     "metadata": {},
     "output_type": "execute_result"
    }
   ],
   "source": [
    "# Special NumPy aggregation funcs that ignore these missing values\n",
    "np.nansum(arr1)"
   ]
  },
  {
   "cell_type": "code",
   "execution_count": 38,
   "id": "2615ef65-01d1-499d-9d57-45e941ce0287",
   "metadata": {},
   "outputs": [
    {
     "name": "stdout",
     "output_type": "stream",
     "text": [
      "0    1.0\n",
      "1    NaN\n",
      "2    2.0\n",
      "3    NaN\n",
      "dtype: float64 \n",
      "\n",
      "0       1\n",
      "1     NaN\n",
      "2       2\n",
      "3    None\n",
      "dtype: object\n"
     ]
    }
   ],
   "source": [
    "# Pandas automatically converts the None to a NaN value.\n",
    "\n",
    "ser = pd.Series([1, np.nan, 2, None])\n",
    "print(ser, '\\n')\n",
    "\n",
    "ser1 = pd.Series([1, np.nan, '2', None])\n",
    "print(ser1)"
   ]
  },
  {
   "cell_type": "code",
   "execution_count": 42,
   "id": "6bfedab1-933b-4c8f-88fc-663a3ad12112",
   "metadata": {},
   "outputs": [
    {
     "name": "stdout",
     "output_type": "stream",
     "text": [
      "0    1.0\n",
      "1    NaN\n",
      "2    2.0\n",
      "3    NaN\n",
      "dtype: float64 \n",
      "\n"
     ]
    },
    {
     "data": {
      "text/plain": [
       "0    False\n",
       "1     True\n",
       "2    False\n",
       "3     True\n",
       "dtype: bool"
      ]
     },
     "execution_count": 42,
     "metadata": {},
     "output_type": "execute_result"
    }
   ],
   "source": [
    "\"\"\"\n",
    "Detecting null values\n",
    "\"\"\"\n",
    "\n",
    "print(ser,'\\n')\n",
    "# isnull()\n",
    "ser.isnull()"
   ]
  },
  {
   "cell_type": "code",
   "execution_count": 44,
   "id": "ab2d1484-192d-4ea6-899f-d342241973e1",
   "metadata": {},
   "outputs": [
    {
     "name": "stdout",
     "output_type": "stream",
     "text": [
      "0    1.0\n",
      "1    NaN\n",
      "2    2.0\n",
      "3    NaN\n",
      "dtype: float64 \n",
      "\n"
     ]
    },
    {
     "data": {
      "text/plain": [
       "0     True\n",
       "1    False\n",
       "2     True\n",
       "3    False\n",
       "dtype: bool"
      ]
     },
     "execution_count": 44,
     "metadata": {},
     "output_type": "execute_result"
    }
   ],
   "source": [
    "# notnull()\n",
    "print(ser, '\\n')\n",
    "ser.notnull()"
   ]
  },
  {
   "cell_type": "code",
   "execution_count": 55,
   "id": "bd775ee0-601f-4921-9194-e948bb8be37d",
   "metadata": {},
   "outputs": [
    {
     "name": "stdout",
     "output_type": "stream",
     "text": [
      "0    1.0\n",
      "2    2.0\n",
      "dtype: float64 \n",
      "\n",
      "0    1.0\n",
      "2    2.0\n",
      "dtype: float64\n"
     ]
    }
   ],
   "source": [
    "\"\"\"\n",
    "Dropping null values\n",
    "\"\"\"\n",
    "\n",
    "# dropna()\n",
    "print(ser.dropna(), '\\n')\n",
    "print(ser.dropna(how='all'))"
   ]
  },
  {
   "cell_type": "code",
   "execution_count": 63,
   "id": "cb5fe265-6a1d-4025-8626-49ec40633392",
   "metadata": {},
   "outputs": [
    {
     "data": {
      "text/html": [
       "<div>\n",
       "<style scoped>\n",
       "    .dataframe tbody tr th:only-of-type {\n",
       "        vertical-align: middle;\n",
       "    }\n",
       "\n",
       "    .dataframe tbody tr th {\n",
       "        vertical-align: top;\n",
       "    }\n",
       "\n",
       "    .dataframe thead th {\n",
       "        text-align: right;\n",
       "    }\n",
       "</style>\n",
       "<table border=\"1\" class=\"dataframe\">\n",
       "  <thead>\n",
       "    <tr style=\"text-align: right;\">\n",
       "      <th></th>\n",
       "      <th>0</th>\n",
       "      <th>1</th>\n",
       "      <th>2</th>\n",
       "    </tr>\n",
       "  </thead>\n",
       "  <tbody>\n",
       "    <tr>\n",
       "      <th>0</th>\n",
       "      <td>1.0</td>\n",
       "      <td>NaN</td>\n",
       "      <td>2</td>\n",
       "    </tr>\n",
       "    <tr>\n",
       "      <th>1</th>\n",
       "      <td>2.0</td>\n",
       "      <td>3.0</td>\n",
       "      <td>5</td>\n",
       "    </tr>\n",
       "    <tr>\n",
       "      <th>2</th>\n",
       "      <td>NaN</td>\n",
       "      <td>4.0</td>\n",
       "      <td>6</td>\n",
       "    </tr>\n",
       "  </tbody>\n",
       "</table>\n",
       "</div>"
      ],
      "text/plain": [
       "     0    1  2\n",
       "0  1.0  NaN  2\n",
       "1  2.0  3.0  5\n",
       "2  NaN  4.0  6"
      ]
     },
     "execution_count": 63,
     "metadata": {},
     "output_type": "execute_result"
    }
   ],
   "source": [
    "# For a DataFrame, there are mor options\n",
    "\n",
    "df = pd.DataFrame([[1, np.nan, 2],\n",
    "                   [2, 3, 5],\n",
    "                   [np.nan, 4, 6]])\n",
    "df"
   ]
  },
  {
   "cell_type": "code",
   "execution_count": 67,
   "id": "df4e4d2c-f146-4d5e-8516-a638591f7026",
   "metadata": {},
   "outputs": [
    {
     "name": "stdout",
     "output_type": "stream",
     "text": [
      "   2\n",
      "0  2\n",
      "1  5\n",
      "2  6 \n",
      "\n",
      "     0    1  2\n",
      "0  1.0  NaN  2\n",
      "1  2.0  3.0  5\n",
      "2  NaN  4.0  6\n"
     ]
    }
   ],
   "source": [
    "# df.dropna(): list-wise deletion\n",
    "print(df.dropna(axis='columns', how='any'), '\\n')\n",
    "print(df.dropna(axis='rows', how='all'))"
   ]
  },
  {
   "cell_type": "code",
   "execution_count": 68,
   "id": "14d17a79-024f-451d-91cf-79bc25340ee1",
   "metadata": {},
   "outputs": [
    {
     "data": {
      "text/plain": [
       "'\\nFilling Null Values\\n'"
      ]
     },
     "execution_count": 68,
     "metadata": {},
     "output_type": "execute_result"
    }
   ],
   "source": [
    "\"\"\"\n",
    "Filling Null Values\n",
    "\"\"\""
   ]
  },
  {
   "cell_type": "code",
   "execution_count": 74,
   "id": "6f4dbc16-2a15-4bb4-b88f-ea1f8c1652c4",
   "metadata": {},
   "outputs": [
    {
     "name": "stdout",
     "output_type": "stream",
     "text": [
      "a    1.0\n",
      "b    0.0\n",
      "c    2.0\n",
      "d    0.0\n",
      "e    3.0\n",
      "dtype: float64 \n",
      "\n",
      "a    1.0\n",
      "b   -1.0\n",
      "c    2.0\n",
      "d   -1.0\n",
      "e    3.0\n",
      "dtype: float64\n"
     ]
    }
   ],
   "source": [
    "# Fill null values with a certain value\n",
    "\n",
    "ser = pd.Series([1, np.nan, 2, None, 3], index=list('abcde'))\n",
    "print(ser.fillna(0), '\\n')\n",
    "print(ser.fillna(-1))"
   ]
  },
  {
   "cell_type": "code",
   "execution_count": 77,
   "id": "062c06d1-992b-42f8-b63d-ef2c9c714b61",
   "metadata": {},
   "outputs": [
    {
     "name": "stdout",
     "output_type": "stream",
     "text": [
      "a    1.0\n",
      "b    1.0\n",
      "c    2.0\n",
      "d    2.0\n",
      "e    3.0\n",
      "dtype: float64 \n",
      "\n",
      "a    1.0\n",
      "b    1.0\n",
      "c    2.0\n",
      "d    2.0\n",
      "e    3.0\n",
      "dtype: float64\n"
     ]
    }
   ],
   "source": [
    "# Forward-fill = LOCF\n",
    "\n",
    "print(ser.fillna(method='ffill'), '\\n')\n",
    "\n",
    "print(ser.ffill())"
   ]
  },
  {
   "cell_type": "code",
   "execution_count": 79,
   "id": "87d990a8-8c68-4d24-b946-857e9e8631b8",
   "metadata": {},
   "outputs": [
    {
     "name": "stdout",
     "output_type": "stream",
     "text": [
      "a    1.0\n",
      "b    2.0\n",
      "c    2.0\n",
      "d    3.0\n",
      "e    3.0\n",
      "dtype: float64 \n",
      "\n",
      "a    1.0\n",
      "b    2.0\n",
      "c    2.0\n",
      "d    3.0\n",
      "e    3.0\n",
      "dtype: float64\n"
     ]
    }
   ],
   "source": [
    "# Backward-fill = NOCB\n",
    "\n",
    "print(ser.fillna(method='bfill'), '\\n')\n",
    "\n",
    "print(ser.bfill())"
   ]
  }
 ],
 "metadata": {
  "kernelspec": {
   "display_name": "Python 3",
   "language": "python",
   "name": "python3"
  },
  "language_info": {
   "codemirror_mode": {
    "name": "ipython",
    "version": 3
   },
   "file_extension": ".py",
   "mimetype": "text/x-python",
   "name": "python",
   "nbconvert_exporter": "python",
   "pygments_lexer": "ipython3",
   "version": "3.8.8"
  }
 },
 "nbformat": 4,
 "nbformat_minor": 5
}
