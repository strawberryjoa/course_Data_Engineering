{
 "cells": [
  {
   "cell_type": "code",
   "execution_count": 2,
   "id": "25f88c26-5e22-4bcc-84cc-57002ffe2a23",
   "metadata": {},
   "outputs": [],
   "source": [
    "import numpy as np "
   ]
  },
  {
   "cell_type": "code",
   "execution_count": 3,
   "id": "4023604d-f0dd-466d-ba78-c4d0e9e88e84",
   "metadata": {},
   "outputs": [
    {
     "name": "stdout",
     "output_type": "stream",
     "text": [
      "[1 3 4 5 9]\n"
     ]
    }
   ],
   "source": [
    "\"\"\"\n",
    "Computing reciprocals in loops\n",
    "\"\"\"\n",
    "\n",
    "# Function for computing reciprocals using looping\n",
    "def compute_reciprocals(values):\n",
    "    output = np.empty(len(values))\n",
    "    for i in range(len(values)):\n",
    "        output[i] = 1.0 / values[i]\n",
    "    return output\n",
    "\n",
    "values = np.random.randint(1, 10, size=5)\n",
    "print(values)"
   ]
  },
  {
   "cell_type": "code",
   "execution_count": 5,
   "id": "702ffcb0-366d-46af-b0b0-19e965e77950",
   "metadata": {},
   "outputs": [
    {
     "name": "stdout",
     "output_type": "stream",
     "text": [
      "1.8 s ± 15.3 ms per loop (mean ± std. dev. of 7 runs, 1 loop each)\n"
     ]
    }
   ],
   "source": [
    "\"\"\"\n",
    "Comparison: Loop vs ufuncs(vectorized)\n",
    "\"\"\"\n",
    "\n",
    "big_array = np.random.randint(1, 100, size=1000000)\n",
    "\n",
    "# Looping on a big array\n",
    "\n",
    "# jupyter magic function\n",
    "%timeit compute_reciprocals(big_array)"
   ]
  },
  {
   "cell_type": "code",
   "execution_count": 6,
   "id": "b46a00bd-5001-4a24-8b06-11f72838148b",
   "metadata": {},
   "outputs": [
    {
     "name": "stdout",
     "output_type": "stream",
     "text": [
      "2.24 ms ± 27.9 µs per loop (mean ± std. dev. of 7 runs, 100 loops each)\n"
     ]
    }
   ],
   "source": [
    "# Vectorized operations\n",
    "%timeit 1 / big_array"
   ]
  },
  {
   "cell_type": "code",
   "execution_count": 10,
   "id": "d2cc6c36-01e0-4347-9b5a-7928fdf0b745",
   "metadata": {},
   "outputs": [
    {
     "name": "stdout",
     "output_type": "stream",
     "text": [
      "[5 8 9 5 0] [0 1 7 6 9] \n",
      "\n",
      "[ 3  6  7  3 -2] [-7 -6  0 -1  2] \n",
      "\n",
      "[-4  0  7  2  0] \n",
      "\n",
      "[[2 4 5 2 4]\n",
      " [2 4 7 7 9]\n",
      " [1 7 0 6 9]] \n",
      "\n",
      "[[ 4 16 25  4 16]\n",
      " [ 4 16 49 49 81]\n",
      " [ 1 49  0 36 81]] \n",
      "\n"
     ]
    }
   ],
   "source": [
    "\"\"\"\n",
    "numpy.ufunc\n",
    "\"\"\"\n",
    "\n",
    "np.random.seed(1)\n",
    "arr1 = np.random.randint(10, size=5)\n",
    "arr2 = np.random.randint(10, size=5)\n",
    "print(arr1, arr2, '\\n')\n",
    "\n",
    "arr1 = arr1 - 2 # array +/- scalar operation\n",
    "arr2 = arr2 - 7\n",
    "print(arr1, arr2, '\\n')\n",
    "\n",
    "arr3 = arr1 + arr2 # array + array operation\n",
    "print(arr3, '\\n')\n",
    "\n",
    "arr4 = np.random.randint(10, size=(3, 5))\n",
    "print(arr4, '\\n')\n",
    "\n",
    "arr5 = arr4 ** 2 # multi-dimensional array operation\n",
    "print(arr5, '\\n')"
   ]
  },
  {
   "cell_type": "code",
   "execution_count": 63,
   "id": "5c6f113f-5d03-43fd-ac81-6cea11de3b37",
   "metadata": {},
   "outputs": [
    {
     "name": "stdout",
     "output_type": "stream",
     "text": [
      "x     = [0 1 2 3]\n",
      "x + 5 = [5 6 7 8]\n",
      "x - 5 = [-5 -4 -3 -2]\n",
      "x * 5 = [ 0  5 10 15]\n",
      "x / 2 = [0.  0.5 1.  1.5]\n",
      "x // 2 = [0 0 1 1]\n",
      "x ** 2 = [0 1 4 9]\n",
      "x % 2 = [0 1 0 1] \n",
      "\n",
      "x     = [0 1 2 3]\n",
      "x + 5 = [5 6 7 8]\n",
      "x - 5 = [-5 -4 -3 -2]\n",
      "x * 5 = [ 0  5 10 15]\n",
      "x / 2 = [0.  0.5 1.  1.5]\n",
      "x // 2 = [0 0 1 1]\n",
      "x ** 2 = [0 1 4 9]\n",
      "x % 2 = [0 1 0 1]\n"
     ]
    }
   ],
   "source": [
    "\"\"\"\n",
    "UFuncs: Array Arithmetic \n",
    "\"\"\"\n",
    "x = np.arange(4)\n",
    "\n",
    "print(\"x     =\", x)\n",
    "print(\"x + 5 =\", x + 5) # 덧셈\n",
    "print(\"x - 5 =\", x - 5) # 뺄셈\n",
    "print(\"x * 5 =\", x * 5) # 곱셈\n",
    "print(\"x / 2 =\", x / 2) # 나눗셈\n",
    "print(\"x // 2 =\", x // 2) # 바닥 나눗셈\n",
    "print(\"x ** 2 =\", x ** 2) # 지수 연산\n",
    "print(\"x % 2 =\", x % 2, '\\n') # 나머지 연산\n",
    "\n",
    "print(\"x     =\", x)\n",
    "print(\"x + 5 =\", np.add(x, 5))\n",
    "print(\"x - 5 =\", np.subtract(x, 5))\n",
    "print(\"x * 5 =\", np.multiply(x, 5)) \n",
    "print(\"x / 2 =\", np.divide(x, 2)) \n",
    "print(\"x // 2 =\", np.floor_divide(x, 2)) \n",
    "print(\"x ** 2 =\", np.power(x, 2)) \n",
    "print(\"x % 2 =\", np.mod(x, 2)) "
   ]
  },
  {
   "cell_type": "code",
   "execution_count": 64,
   "id": "bdd4aa62-12a9-4bd0-924c-b0c94f8038f3",
   "metadata": {},
   "outputs": [
    {
     "name": "stdout",
     "output_type": "stream",
     "text": [
      "[2 1 0 1 2]\n",
      "[5. 5. 2. 1.]\n"
     ]
    }
   ],
   "source": [
    "\"\"\"\n",
    "UFuncs: Absolute Value\n",
    "\"\"\"\n",
    "\n",
    "x = np.array([-2, -1, 0, 1, 2])\n",
    "print(np.abs(x))\n",
    "\n",
    "x = np.array([3-4j, 4-3j, 2+0j, 0+1j])\n",
    "print(np.abs(x))"
   ]
  },
  {
   "cell_type": "code",
   "execution_count": 74,
   "id": "ce991950-d013-48ea-a9d4-33355d2abc35",
   "metadata": {},
   "outputs": [
    {
     "name": "stdout",
     "output_type": "stream",
     "text": [
      "[0.         1.57079633 3.14159265]\n",
      "[0.0000000e+00 1.0000000e+00 1.2246468e-16]\n",
      "[ 1.000000e+00  6.123234e-17 -1.000000e+00]\n",
      "[ 0.00000000e+00  1.63312394e+16 -1.22464680e-16]\n",
      "[  0.  10.  20.  30.  40.  50.  60.  70.  80.  90. 100.]\n"
     ]
    }
   ],
   "source": [
    "\"\"\"\n",
    "UFuncs: Trigonometric Functions\n",
    "\"\"\"\n",
    "theta = np.linspace(0, np.pi, 3)\n",
    "print(theta)\n",
    "print(np.sin(theta))\n",
    "print(np.cos(theta))\n",
    "print(np.tan(theta))\n",
    "\n",
    "x = np.linspace(0, 100, 11)\n",
    "print(x)"
   ]
  },
  {
   "cell_type": "code",
   "execution_count": 81,
   "id": "485ef5b0-71cc-420e-aba2-93315045ac61",
   "metadata": {},
   "outputs": [
    {
     "name": "stdout",
     "output_type": "stream",
     "text": [
      "[1 2 3 4 5 6 7 8 9]\n",
      "45\n",
      "362880\n"
     ]
    }
   ],
   "source": [
    "\"\"\"\n",
    "Ufuncs: Aggregation\n",
    "\"\"\"\n",
    "\n",
    "x = np.arange(1, 10)\n",
    "print(x)\n",
    "\n",
    "aggr = np.add.reduce(x)\n",
    "print(aggr)\n",
    "\n",
    "aggr = np.multiply.reduce(x)\n",
    "print(aggr)"
   ]
  },
  {
   "cell_type": "code",
   "execution_count": 87,
   "id": "45c6b1af-2c28-4ba6-917c-c6a945c5cda9",
   "metadata": {},
   "outputs": [
    {
     "name": "stdout",
     "output_type": "stream",
     "text": [
      "[1 2 3 4]\n",
      "[ 1  3  6 10]\n",
      "[ 1  2  6 24]\n"
     ]
    }
   ],
   "source": [
    "# accumulate()\n",
    "x = np.arange(1, 5)\n",
    "print(x)\n",
    "\n",
    "accum = np.add.accumulate(x)\n",
    "print(accum)\n",
    "\n",
    "accum = np.multiply.accumulate(x)\n",
    "print(accum)"
   ]
  },
  {
   "cell_type": "code",
   "execution_count": 98,
   "id": "fdf63e9e-9c55-46c8-8920-8d6f5acfcf31",
   "metadata": {},
   "outputs": [
    {
     "name": "stdout",
     "output_type": "stream",
     "text": [
      "[0.5507979  0.70814782 0.29090474 ... 0.93033748 0.80429816 0.47400579]\n",
      "sum = 500422.19897015305\n"
     ]
    }
   ],
   "source": [
    "# Summing the values in an Array\n",
    "\n",
    "np.random.seed(3)\n",
    "arr = np.random.rand(1000000) # rand(): create 0~1 real numbers\n",
    "\n",
    "print(arr)\n",
    "print(\"sum =\", np.sum(arr))"
   ]
  },
  {
   "cell_type": "code",
   "execution_count": 93,
   "id": "9c31d139-31d5-43b2-8e8a-02a8ddcc0bc8",
   "metadata": {},
   "outputs": [
    {
     "name": "stdout",
     "output_type": "stream",
     "text": [
      "84.7 ms ± 653 µs per loop (mean ± std. dev. of 7 runs, 10 loops each)\n"
     ]
    }
   ],
   "source": [
    "%timeit sum(arr)"
   ]
  },
  {
   "cell_type": "code",
   "execution_count": 102,
   "id": "c6d2ce83-216e-454b-827a-1a6f84bc441b",
   "metadata": {},
   "outputs": [
    {
     "name": "stdout",
     "output_type": "stream",
     "text": [
      "1.21 ms ± 35.8 µs per loop (mean ± std. dev. of 7 runs, 1000 loops each)\n"
     ]
    }
   ],
   "source": [
    "%timeit np.sum(arr) # 1000µs = 1ms"
   ]
  },
  {
   "cell_type": "code",
   "execution_count": 124,
   "id": "be8791e2-116b-4eda-863c-c7d42babf074",
   "metadata": {},
   "outputs": [
    {
     "name": "stdout",
     "output_type": "stream",
     "text": [
      "max = 0.9999996367889004\n",
      "min = 1.5496004267534502e-06\n",
      "mean = 0.500422198970153\n",
      "median = 0.5005659265960778\n",
      "percentile = 0.10025999321220155\n",
      "percentile = 0.9989429307391936\n",
      "False\n",
      "True\n",
      "\n",
      "\n",
      "[1 2 3 4 5 6 7 8 9]\n",
      "max = 9\n",
      "min = 1\n",
      "mean = 5.0\n",
      "median = 5.0\n",
      "percentile = 1.8\n",
      "percentile = 8.2\n",
      "False\n",
      "True\n",
      "False\n",
      "True\n"
     ]
    }
   ],
   "source": [
    "# Other Aggr. functions\n",
    "\n",
    "print(\"max =\", np.max(arr))\n",
    "print(\"min =\", np.min(arr))\n",
    "print(\"mean =\", np.mean(arr)) # 평균값\n",
    "print(\"median =\", np.median(arr)) # 중앙값\n",
    "print(\"percentile =\", np.percentile(arr, 10)) # 하위 10%\n",
    "print(\"percentile =\", np.percentile(arr, 99.9)) # 하위 99.9% == 상위 0.1%\n",
    "print(np.any(arr>1))\n",
    "print(np.all(arr>0)) # range [0, 1)\n",
    "print('\\n')\n",
    "\n",
    "x = np.arange(1, 10)\n",
    "print(x)\n",
    "print(\"max =\", np.max(x))\n",
    "print(\"min =\", np.min(x))\n",
    "print(\"mean =\", np.mean(x))\n",
    "print(\"median =\", np.median(x))\n",
    "print(\"percentile =\", np.percentile(x, 10))\n",
    "print(\"percentile =\", np.percentile(x, 90))\n",
    "print(np.any(x>10))\n",
    "print(np.any(x>5))\n",
    "print(np.all(x>5))\n",
    "print(np.all(x>0))"
   ]
  },
  {
   "cell_type": "code",
   "execution_count": 129,
   "id": "2c794013-f0ee-44d1-95d6-8e4f1a98ae83",
   "metadata": {},
   "outputs": [
    {
     "name": "stdout",
     "output_type": "stream",
     "text": [
      "[[3 6 6 0]\n",
      " [9 8 4 7]\n",
      " [0 0 7 1]]\n",
      "[12 14 17  8]\n",
      "[15 28  8]\n"
     ]
    }
   ],
   "source": [
    "# Multi dimensional aggregates\n",
    "\n",
    "np.random.seed(5)\n",
    "arr = np.random.randint(10, size=(3, 4))\n",
    "print(arr)\n",
    "\n",
    "print(np.sum(arr, axis=0))\n",
    "print(np.sum(arr, axis=1))"
   ]
  }
 ],
 "metadata": {
  "kernelspec": {
   "display_name": "Python 3",
   "language": "python",
   "name": "python3"
  },
  "language_info": {
   "codemirror_mode": {
    "name": "ipython",
    "version": 3
   },
   "file_extension": ".py",
   "mimetype": "text/x-python",
   "name": "python",
   "nbconvert_exporter": "python",
   "pygments_lexer": "ipython3",
   "version": "3.8.8"
  }
 },
 "nbformat": 4,
 "nbformat_minor": 5
}
