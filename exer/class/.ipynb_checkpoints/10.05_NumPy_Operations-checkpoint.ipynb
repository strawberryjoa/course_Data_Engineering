{
 "cells": [
  {
   "cell_type": "code",
   "execution_count": 2,
   "id": "7dd64fa2-4d66-4720-87d1-afbb2d438a25",
   "metadata": {},
   "outputs": [],
   "source": [
    "import numpy as np"
   ]
  },
  {
   "cell_type": "code",
   "execution_count": 7,
   "id": "125fe1b3-4a7c-43fe-87db-81f8e335433d",
   "metadata": {},
   "outputs": [
    {
     "name": "stdout",
     "output_type": "stream",
     "text": [
      "[0 1 2]\n",
      "[3 4 5 6 7 8]\n",
      "[3 5 7]\n"
     ]
    }
   ],
   "source": [
    "\"\"\"\n",
    "Numpy Array Attributes\n",
    "\"\"\"\n",
    "\n",
    "# Creating on array\n",
    "\n",
    "print(np.arange(3))\n",
    "print(np.arange(3, 9))\n",
    "print(np.arange(3, 9, 2))"
   ]
  },
  {
   "cell_type": "code",
   "execution_count": 39,
   "id": "2f2f044a-a960-4cd8-80c1-667a84678f90",
   "metadata": {},
   "outputs": [
    {
     "name": "stdout",
     "output_type": "stream",
     "text": [
      "[5 0 3 3 7 9] \n",
      "\n",
      "[[3 5 2 4]\n",
      " [7 6 8 8]\n",
      " [1 6 7 7]] \n",
      "\n",
      "[[[8 1 5 9 8]\n",
      "  [9 4 3 0 3]\n",
      "  [5 0 2 3 8]\n",
      "  [1 3 3 3 7]]\n",
      "\n",
      " [[0 1 9 9 0]\n",
      "  [4 7 3 2 7]\n",
      "  [2 0 0 4 5]\n",
      "  [5 6 8 4 1]]\n",
      "\n",
      " [[4 9 8 1 1]\n",
      "  [7 9 9 3 6]\n",
      "  [7 2 0 3 5]\n",
      "  [9 4 4 6 4]]]\n"
     ]
    }
   ],
   "source": [
    "# Random number generator\n",
    "\n",
    "np.random.seed(0)\n",
    "\n",
    "arr1 = np.random.randint(10, size=6) # 1D array\n",
    "print(arr1, '\\n')\n",
    "      \n",
    "arr2 = np.random.randint(10, size=(3, 4)) # 2D array\n",
    "print(arr2, '\\n')\n",
    "\n",
    "arr3 = np.random.randint(10, size=(3, 4, 5)) # 3D array (page, row, column)\n",
    "print(arr3)"
   ]
  },
  {
   "cell_type": "code",
   "execution_count": 47,
   "id": "9ded8618-ea8c-4604-81e1-1e56b692fc95",
   "metadata": {},
   "outputs": [
    {
     "name": "stdout",
     "output_type": "stream",
     "text": [
      "[[3 5 2 4]\n",
      " [7 6 8 8]\n",
      " [1 6 7 7]]\n",
      "arr2.ndim =  2\n",
      "arr2.shape =  (3, 4)\n",
      "arr2.size =  12\n",
      "arr2.dtype =  int32\n",
      "arr2.nbyes =  48\n"
     ]
    }
   ],
   "source": [
    "# Attributes\n",
    "\n",
    "print (arr2)\n",
    "\n",
    "print(\"arr2.ndim = \", arr2.ndim)\n",
    "print(\"arr2.shape = \", arr2.shape)\n",
    "print(\"arr2.size = \", arr2.size)\n",
    "\n",
    "print(\"arr2.dtype = \", arr2.dtype) # 4bytes 크기로 정수를 표현\n",
    "print(\"arr2.nbyes = \", arr2.nbytes)"
   ]
  },
  {
   "cell_type": "code",
   "execution_count": 57,
   "id": "c956dd5a-bfe4-4e04-9999-601f0b86215b",
   "metadata": {},
   "outputs": [
    {
     "name": "stdout",
     "output_type": "stream",
     "text": [
      "[0 1 2 3 4 5 6 7 8 9]\n",
      "[3 4 5 6]\n",
      "[0 1 2 3 4 5 6 7]\n",
      "[6 7 8 9]\n",
      "[0 4 8]\n",
      "[2 5 8]\n"
     ]
    }
   ],
   "source": [
    "\"\"\"\n",
    "Slicing\n",
    "\"\"\"\n",
    "\n",
    "arr = np.arange(10)\n",
    "print(arr)\n",
    "\n",
    "print(arr[3:7])\n",
    "print(arr[:8])\n",
    "print(arr[6:])\n",
    "print(arr[::4])\n",
    "print(arr[2:9:3])"
   ]
  },
  {
   "cell_type": "code",
   "execution_count": 102,
   "id": "ce39834f-08a9-4240-8f32-dfae2faf8b65",
   "metadata": {},
   "outputs": [
    {
     "name": "stdout",
     "output_type": "stream",
     "text": [
      "[[5 0 3 3 7 9 3 5]\n",
      " [2 4 7 6 8 8 1 6]\n",
      " [7 7 8 1 5 9 8 9]\n",
      " [4 3 0 3 5 0 2 3]\n",
      " [8 1 3 3 3 7 0 1]\n",
      " [9 9 0 4 7 3 2 7]]\n",
      "[[5 0 2]\n",
      " [3 7 0]] \n",
      "\n",
      "[[28 34  0  0 36 53  5 38 17 79]\n",
      " [ 4 42 58 31  1 65 41 57 35 11]\n",
      " [46 82 91  0 14 99 53 12 42 84]\n",
      " [75 68  6 68 47  3 76 52 78 15]\n",
      " [20 99 58 23 79 13 85 48 49 69]\n",
      " [41 35 64 95 69 94  0 50 36 34]\n",
      " [48 93  3 98 42 77 21 73  0 10]\n",
      " [43 58 23 59  2 98 62 35 94 67]\n",
      " [82 46 99 20 81 50 27 14 41 58]\n",
      " [65 36 10 86 43 11  2 51 80 32]] \n",
      "\n",
      "[[99 58 23 79 13 85 48 49 69]\n",
      " [35 64 95 69 94  0 50 36 34]\n",
      " [93  3 98 42 77 21 73  0 10]\n",
      " [58 23 59  2 98 62 35 94 67]\n",
      " [46 99 20 81 50 27 14 41 58]\n",
      " [36 10 86 43 11  2 51 80 32]]\n"
     ]
    }
   ],
   "source": [
    "# Multi-dimensional Subarrays\n",
    "\n",
    "np.random.seed(0)\n",
    "arr = np.random.randint(10, size=(6, 8))\n",
    "print(arr)\n",
    "\n",
    "arr_sub1 = arr[3:5, 4:7]\n",
    "print(arr_sub1,'\\n')\n",
    "\n",
    "\n",
    "arr1 = np.random.randint(100, size=(10, 10))\n",
    "print(arr1,'\\n')\n",
    "\n",
    "arr_sub2 = arr1[4:, 1:]\n",
    "print(arr_sub2)"
   ]
  },
  {
   "cell_type": "code",
   "execution_count": 125,
   "id": "2de292a1-55c2-454d-83f4-bb36d1edcfa9",
   "metadata": {},
   "outputs": [
    {
     "name": "stdout",
     "output_type": "stream",
     "text": [
      "[[5 0 3 3 7 9 3 5]\n",
      " [2 4 7 6 8 8 1 6]\n",
      " [7 7 8 1 5 9 8 9]\n",
      " [4 3 0 3 5 0 2 3]\n",
      " [8 1 3 3 3 7 0 1]\n",
      " [9 9 0 4 7 3 2 7]]\n",
      "[[5 0 3]\n",
      " [2 4 7]] \n",
      "\n",
      "[[2 0 0 4 5 5 6 8]\n",
      " [4 1 4 9 8 1 1 7]\n",
      " [9 9 3 6 7 2 0 3]\n",
      " [5 9 4 4 6 4 4 3]\n",
      " [4 4 8 4 3 7 5 5]\n",
      " [0 1 5 9 3 0 5 0]]\n",
      "[[2 0 5 6]\n",
      " [4 4 8 1]\n",
      " [9 3 7 0]]\n"
     ]
    }
   ],
   "source": [
    "# Exercise\n",
    "\n",
    "np.random.seed(0)\n",
    "arr1 = np.random.randint(10, size=(6, 8))\n",
    "print(arr1)\n",
    "\n",
    "arr_sub1 = arr[:2, :3]\n",
    "\"\"\" expected result\n",
    "    [5 0 3]\n",
    "    [2 4 7]\n",
    "\"\"\"\n",
    "\n",
    "print(arr_sub1,'\\n')\n",
    "\n",
    "arr2 = np.random.randint(10, size=(6, 8))\n",
    "print(arr2)\n",
    "\n",
    "arr_sub2 = arr2[:3, ::2]\n",
    "\"\"\" expected result\n",
    "    [2 0 5 6]\n",
    "    [4 4 8 1]\n",
    "    [9 3 7 0]\n",
    "\"\"\"\n",
    "\n",
    "print(arr_sub2)"
   ]
  },
  {
   "cell_type": "code",
   "execution_count": 145,
   "id": "faf52521-3793-4462-a4d7-8e976ea41e53",
   "metadata": {},
   "outputs": [
    {
     "name": "stdout",
     "output_type": "stream",
     "text": [
      "[[5 4 1 5 8]\n",
      " [3 5 8 4 1]\n",
      " [7 8 1 2 1]\n",
      " [1 7 5 0 4]\n",
      " [1 1 6 6 0]] \n",
      "\n",
      "[[5 4]\n",
      " [3 5]] \n",
      "\n",
      "[[22  4  1  5  8]\n",
      " [ 3  5  8  4  1]\n",
      " [ 7  8  1  2  1]\n",
      " [ 1  7  5  0  4]\n",
      " [ 1  1  6  6  0]] \n",
      "\n",
      "[0, 1, 2, 3, 4, 5] \n",
      "\n",
      "[0, 1, 2] \n",
      "\n",
      "[0, 1, 2, 3, 4, 5] \n",
      "\n",
      "[22, 1, 2] \n",
      "\n"
     ]
    }
   ],
   "source": [
    "\"\"\"\n",
    "Subarrays as no-copy views\n",
    "\"\"\"\n",
    "\n",
    "arr = np.random.randint(10, size=(5, 5))\n",
    "print(arr,'\\n')\n",
    "\n",
    "arr_sub = arr[:2, :2]\n",
    "print(arr_sub,'\\n')\n",
    "\n",
    "arr_sub[0, 0] = 22\n",
    "print(arr,'\\n')\n",
    "\n",
    "# List\n",
    "\n",
    "list = [0, 1, 2, 3, 4, 5]\n",
    "print(list,'\\n')\n",
    "\n",
    "list_sub = list[:3]\n",
    "print(list_sub, '\\n')\n",
    "\n",
    "list_sub[0] = 22\n",
    "print(list, '\\n')\n",
    "print(list_sub, '\\n')"
   ]
  },
  {
   "cell_type": "code",
   "execution_count": 152,
   "id": "3ec54ad0-284c-4732-a688-dead08564d23",
   "metadata": {},
   "outputs": [
    {
     "name": "stdout",
     "output_type": "stream",
     "text": [
      "[[ 8  8  3  7]\n",
      " [ 7  0 10 14]\n",
      " [ 4  2  5  2]] \n",
      "\n",
      "[[8 8]\n",
      " [7 0]] \n",
      "\n",
      "[[ 8  8  3  7]\n",
      " [ 7  0 10 14]\n",
      " [ 4  2  5  2]] \n",
      "\n",
      "[[99  8]\n",
      " [ 7  0]] \n",
      "\n"
     ]
    }
   ],
   "source": [
    "# .copy()\n",
    "\n",
    "np.random.seed(100)\n",
    "arr = np.random.randint(15, size=(3, 4))\n",
    "print(arr,'\\n')\n",
    "\n",
    "arr_sub = arr[:2, :2].copy()\n",
    "print(arr_sub,'\\n')\n",
    "\n",
    "arr_sub[0,0] = 99\n",
    "print(arr,'\\n')\n",
    "print(arr_sub, '\\n')"
   ]
  },
  {
   "cell_type": "code",
   "execution_count": 184,
   "id": "bc770d30-cff5-491d-862a-dd3f12caca30",
   "metadata": {},
   "outputs": [
    {
     "name": "stdout",
     "output_type": "stream",
     "text": [
      "[1 2 3 4 5 6 7 8 9] \n",
      "\n",
      "[ 1  2  3  4  5  6  7  8  9 10 11 12 13 14 15 16 17 18 19 20 21 22 23 24\n",
      " 25 26 27 28 29 30 31 32 33 34 35 36 37 38 39 40 41 42 43 44 45 46 47 48\n",
      " 49 50] \n",
      "\n",
      "[[1 2 3]\n",
      " [4 5 6]\n",
      " [7 8 9]] \n",
      "\n",
      "[[ 1  2  3  4  5]\n",
      " [ 6  7  8  9 10]\n",
      " [11 12 13 14 15]\n",
      " [16 17 18 19 20]\n",
      " [21 22 23 24 25]\n",
      " [26 27 28 29 30]\n",
      " [31 32 33 34 35]\n",
      " [36 37 38 39 40]\n",
      " [41 42 43 44 45]\n",
      " [46 47 48 49 50]] \n",
      "\n"
     ]
    }
   ],
   "source": [
    "\"\"\"\n",
    "Reshaping of Arrays\n",
    "\"\"\"\n",
    "\n",
    "arr = np.arange(1, 10)\n",
    "print(arr, '\\n')\n",
    "\n",
    "arr1 = np.arange(1, 51)\n",
    "print(arr1, '\\n')\n",
    "\n",
    "# reshape()\n",
    "grid = arr.reshape(3, 3)\n",
    "print(grid,'\\n')\n",
    "\n",
    "grid1 = arr1.reshape(10, 5)\n",
    "print(grid1, '\\n')"
   ]
  },
  {
   "cell_type": "code",
   "execution_count": 197,
   "id": "6115dc91-cfd6-445e-94c0-d8c493dd4d61",
   "metadata": {},
   "outputs": [
    {
     "name": "stdout",
     "output_type": "stream",
     "text": [
      "[1 2 3]\n",
      "arr.ndim =  1\n",
      "arr.shape =  (3,) \n",
      "\n",
      "[[1 2 3]]\n",
      "arr_new.ndim =  2\n",
      "arr_new.shape =  (1, 3) \n",
      "\n",
      "[[1]\n",
      " [2]\n",
      " [3]]\n",
      "arr_new1.ndim =  2\n",
      "arr_new1.shape =  (3, 1)\n"
     ]
    }
   ],
   "source": [
    "# np.newaxis\n",
    "\n",
    "arr = np.array([1, 2, 3])\n",
    "print(arr)\n",
    "\n",
    "print(\"arr.ndim = \", arr.ndim)\n",
    "print(\"arr.shape = \", arr.shape, '\\n')\n",
    "\n",
    "arr_new = arr[np.newaxis, :]\n",
    "print(arr_new)\n",
    "print(\"arr_new.ndim = \", arr_new.ndim)\n",
    "print(\"arr_new.shape = \", arr_new.shape, '\\n')\n",
    "\n",
    "arr_new1 = arr[:, np.newaxis]\n",
    "print(arr_new1)\n",
    "print(\"arr_new1.ndim = \", arr_new1.ndim)\n",
    "print(\"arr_new1.shape = \", arr_new1.shape)"
   ]
  },
  {
   "cell_type": "code",
   "execution_count": 220,
   "id": "540bc468-63d9-4007-8c6a-3f280c77b5dc",
   "metadata": {},
   "outputs": [
    {
     "name": "stdout",
     "output_type": "stream",
     "text": [
      "[1 2 3 4 5 6 7 8 9]\n",
      "[[1 2 3]\n",
      " [4 5 6]\n",
      " [7 8 9]]\n",
      "[1 2 3 4 5 6 7 8 9] \n",
      "\n",
      "[[1 2 3]\n",
      " [1 2 3]\n",
      " [4 5 6]\n",
      " [4 5 6]\n",
      " [7 8 9]\n",
      " [7 8 9]]\n",
      "[[1 2 3 4 5 6 7 8 9]\n",
      " [1 2 3 4 5 6 7 8 9]]\n",
      "[[1 2 3]\n",
      " [1 2 3]\n",
      " [4 5 6]\n",
      " [4 5 6]\n",
      " [7 8 9]\n",
      " [7 8 9]]\n"
     ]
    }
   ],
   "source": [
    "\"\"\"\n",
    "Array Concatenation\n",
    "\"\"\"\n",
    "\n",
    "# np.concatenate(), np.vstack(), np.hstack()\n",
    "\n",
    "arr_1 = np.array([1, 2, 3])\n",
    "arr_2 = np.array([4, 5, 6])\n",
    "arr_3 = np.array([7, 8, 9])\n",
    "\n",
    "arr_total = np.concatenate([arr_1, arr_2, arr_3])\n",
    "print(arr_total)\n",
    "\n",
    "arr_total = np.vstack([arr_1, arr_2, arr_3])\n",
    "print(arr_total)\n",
    "\n",
    "arr_total = np.hstack([arr_1, arr_2, arr_3])\n",
    "print(arr_total, '\\n')\n",
    "\n",
    "# with 2D arrays\n",
    "\n",
    "arr_1 = np.array([[1, 2, 3], [1, 2, 3]])\n",
    "arr_2 = np.array([[4, 5, 6], [4, 5, 6]])\n",
    "arr_3 = np.array([[7, 8, 9], [7, 8, 9]])\n",
    "\n",
    "arr_total = np.concatenate([arr_1, arr_2, arr_3], axis=0) \n",
    "print(arr_total)\n",
    "\n",
    "arr_total = np.hstack([arr_1, arr_2, arr_3])\n",
    "print(arr_total)\n",
    "\n",
    "arr_total = np.vstack([arr_1, arr_2, arr_3])\n",
    "print(arr_total)"
   ]
  },
  {
   "cell_type": "code",
   "execution_count": 224,
   "id": "d47a8b08-588a-49cc-8650-b5c83ada62a7",
   "metadata": {},
   "outputs": [
    {
     "name": "stdout",
     "output_type": "stream",
     "text": [
      "[ 1  2  3 99 99  3  2  1] \n",
      "\n",
      "[1 2 3] [99 99] [3 2 1]\n"
     ]
    }
   ],
   "source": [
    "\"\"\"\n",
    "Array Splitting\n",
    "\"\"\"\n",
    "\n",
    "arr = np.array([1, 2, 3, 99, 99, 3, 2, 1])\n",
    "print(arr, '\\n')\n",
    "\n",
    "arr_1, arr_2, arr_3 = np.split(arr, [3, 5])\n",
    "print(arr_1, arr_2, arr_3)"
   ]
  }
 ],
 "metadata": {
  "kernelspec": {
   "display_name": "Python 3",
   "language": "python",
   "name": "python3"
  },
  "language_info": {
   "codemirror_mode": {
    "name": "ipython",
    "version": 3
   },
   "file_extension": ".py",
   "mimetype": "text/x-python",
   "name": "python",
   "nbconvert_exporter": "python",
   "pygments_lexer": "ipython3",
   "version": "3.8.8"
  }
 },
 "nbformat": 4,
 "nbformat_minor": 5
}
