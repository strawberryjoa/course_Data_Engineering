{
 "cells": [
  {
   "cell_type": "code",
   "execution_count": 60,
   "id": "62eae821-6846-484c-95f8-967be6d01f39",
   "metadata": {},
   "outputs": [
    {
     "name": "stdout",
     "output_type": "stream",
     "text": [
      "2\n"
     ]
    }
   ],
   "source": [
    "\"\"\"\n",
    "Functions vs Method\n",
    "\"\"\"\n",
    "\n",
    "def my_function(x):\n",
    "    return x + 1\n",
    "\n",
    "y = 3\n",
    "my_function(y)\n",
    "\n",
    "# method : 클래스 내에 정의된 함수\n",
    "\n",
    "x=1\n",
    "\n",
    "class my_class:\n",
    "    ## @staticmethod\n",
    "    def my_method(self):\n",
    "        return x + 1\n",
    "    \n",
    "cls = my_class() #create an instance\n",
    "\n",
    "print(cls.my_method())"
   ]
  },
  {
   "cell_type": "code",
   "execution_count": 61,
   "id": "13939857-9f0f-40e9-ba44-3c0bc49ceec0",
   "metadata": {},
   "outputs": [
    {
     "name": "stdout",
     "output_type": "stream",
     "text": [
      "2021 is a not leap year.\n"
     ]
    }
   ],
   "source": [
    "\"\"\"\n",
    "Return Keyword\n",
    "\"\"\"\n",
    "\n",
    "# leap year: 윤년(2월 29일까지)\n",
    "\n",
    "def check_leap_year(year):\n",
    "    if year % 4 == 0:\n",
    "        return str(year) + \" is a leap year.\"\n",
    "    else:\n",
    "        return str(year) + \" is a not leap year.\"\n",
    "    \n",
    "result = check_leap_year(2021)\n",
    "print(result)"
   ]
  },
  {
   "cell_type": "code",
   "execution_count": 63,
   "id": "ad407b07-bb8d-442b-a79f-fc0f4a632e0e",
   "metadata": {},
   "outputs": [
    {
     "name": "stdout",
     "output_type": "stream",
     "text": [
      "9 16 25\n"
     ]
    }
   ],
   "source": [
    "\"\"\"\n",
    "Returning Multiple Values\n",
    "\"\"\"\n",
    "\n",
    "def square_point(x, y, z):\n",
    "    x_squared = x ** 2\n",
    "    y_squared = y ** 2\n",
    "    z_squared = z ** 2\n",
    "    return x_squared, y_squared, z_squared\n",
    "\n",
    "three_squared, four_squared, five_squared = square_point(3, 4, 5)\n",
    "\n",
    "print(three_squared, four_squared, five_squared)"
   ]
  },
  {
   "cell_type": "code",
   "execution_count": 74,
   "id": "63f00430-a4f7-47cf-a1c4-c973d86fda99",
   "metadata": {},
   "outputs": [
    {
     "name": "stdout",
     "output_type": "stream",
     "text": [
      "Hello\n"
     ]
    }
   ],
   "source": [
    "\"\"\"\n",
    "Global Variables\n",
    "\"\"\"\n",
    "\n",
    "a = \"Hello\"\n",
    "\n",
    "def prints_a():\n",
    "    print(a)\n",
    "\n",
    "prints_a()"
   ]
  },
  {
   "cell_type": "code",
   "execution_count": 69,
   "id": "c380eb4a-6c16-4c52-9ea3-dd794a9cfdfb",
   "metadata": {},
   "outputs": [
    {
     "name": "stdout",
     "output_type": "stream",
     "text": [
      "Hello\n"
     ]
    }
   ],
   "source": [
    "\"\"\"\n",
    "Local Variables\n",
    "\"\"\"\n",
    "\n",
    "def prints_a():\n",
    "    b = \"Hello\"\n",
    "    print(b)\n",
    "\n",
    "prints_a()\n",
    "##print(b)\n",
    "\n",
    "a = 5\n",
    "\n",
    "def f1():\n",
    "    a = 2\n",
    "    print(a) # 지역변수 우선 참조"
   ]
  },
  {
   "cell_type": "code",
   "execution_count": 75,
   "id": "7ac7f011-4e8c-4896-8fcd-8a7b7918b750",
   "metadata": {},
   "outputs": [
    {
     "name": "stdout",
     "output_type": "stream",
     "text": [
      "5\n",
      "2\n"
     ]
    }
   ],
   "source": [
    "\"\"\"\n",
    "Exercise\n",
    "\"\"\"\n",
    "a = 5\n",
    "\n",
    "def f1():\n",
    "    a = 2\n",
    "    print(a)\n",
    "\n",
    "print(a)\n",
    "f1()"
   ]
  },
  {
   "cell_type": "code",
   "execution_count": 80,
   "id": "a7abfe97-4a97-431c-8dc7-3f640e4f8090",
   "metadata": {},
   "outputs": [
    {
     "name": "stdout",
     "output_type": "stream",
     "text": [
      "Height = 1\n",
      "Width = 2\n",
      "Depth = 3\n",
      "6\n",
      "Height = 2\n",
      "Width = 1\n",
      "Depth = 3\n",
      "6\n",
      "Height = 1\n",
      "Width = 2\n",
      "Depth = 3\n",
      "6\n",
      "Height = 1\n",
      "Width = 2\n",
      "Depth = 3\n",
      "6\n"
     ]
    }
   ],
   "source": [
    "\"\"\"\n",
    "Keyword Arguments and Default Values\n",
    "\"\"\"\n",
    "\n",
    "def findvolume(height, width, depth=3):\n",
    "    print(\"Height = \" + str(height)) # str(): 어떤 값을 문자열 값으로 변환\n",
    "    print(\"Width = \" + str(width))\n",
    "    print(\"Depth = \" + str(depth))\n",
    "    return height * width * depth\n",
    "\n",
    "# 예제: 높이=1, 넓이=2, 깊이=3\n",
    "print(findvolume(1, 2, 3))\n",
    "print(findvolume(2, 1, 3))\n",
    "print(findvolume(width=2, height=1, depth=3))\n",
    "print(findvolume(width=2, height=1))"
   ]
  }
 ],
 "metadata": {
  "kernelspec": {
   "display_name": "Python 3",
   "language": "python",
   "name": "python3"
  },
  "language_info": {
   "codemirror_mode": {
    "name": "ipython",
    "version": 3
   },
   "file_extension": ".py",
   "mimetype": "text/x-python",
   "name": "python",
   "nbconvert_exporter": "python",
   "pygments_lexer": "ipython3",
   "version": "3.8.8"
  }
 },
 "nbformat": 4,
 "nbformat_minor": 5
}
