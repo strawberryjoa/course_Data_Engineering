{
 "cells": [
  {
   "cell_type": "code",
   "execution_count": 8,
   "id": "ccdad686-db88-45e7-a489-6eefd2cc14e9",
   "metadata": {},
   "outputs": [
    {
     "name": "stdout",
     "output_type": "stream",
     "text": [
      "<class 'bool'>\n",
      "<class 'int'>\n",
      "<class 'float'>\n",
      "3.14\n",
      "<class 'str'>\n"
     ]
    }
   ],
   "source": [
    "\"\"\"\n",
    "boolean variables\n",
    "\"\"\"\n",
    "\n",
    "is_tested = False\n",
    "#print(is_tested)\n",
    "print(type(is_tested))\n",
    "\n",
    "a = 3\n",
    "print(type(a))\n",
    "\n",
    "b = 3.14\n",
    "print(type(b))\n",
    "\n",
    "c = \"3.14\"\n",
    "print(type(c))"
   ]
  },
  {
   "cell_type": "code",
   "execution_count": 12,
   "id": "80b82935-4856-4ab5-b4ed-1dcf1a29c9f0",
   "metadata": {},
   "outputs": [
    {
     "name": "stdout",
     "output_type": "stream",
     "text": [
      "True\n",
      "True\n",
      "False\n"
     ]
    }
   ],
   "source": [
    "# 1\n",
    "print(\"Yes\" == 'Yes')\n",
    "\n",
    "# 2\n",
    "print((2>1) == (5<10))\n",
    "\n",
    "# 3\n",
    "c = '2'\n",
    "d = 2\n",
    "print(c == d)"
   ]
  },
  {
   "cell_type": "code",
   "execution_count": 21,
   "id": "3008a7e8-37aa-4719-85b3-9da508586cb5",
   "metadata": {},
   "outputs": [
    {
     "name": "stdout",
     "output_type": "stream",
     "text": [
      "아! 말티푸구나.\n",
      "True\n"
     ]
    }
   ],
   "source": [
    "\"\"\"\n",
    "Conditional statements (if / elif / else)\n",
    "\"\"\"\n",
    "\n",
    "puppy = \"maltepoo\"\n",
    "age = 1\n",
    "is_yes = False\n",
    "\n",
    "if puppy == \"maltese\":\n",
    "    print(\"말티즈.\")\n",
    "    is_yes = True\n",
    "    \n",
    "    if age < 3:\n",
    "        print(\"말티즈 새끼.\")\n",
    "\n",
    "elif puppy == \"poodle\":\n",
    "    print(\"푸들.\")\n",
    "    is_yes = True\n",
    "    \n",
    "elif puppy == \"shitzu\":\n",
    "    print(\"시츄.\")\n",
    "    is_yes = True\n",
    "\n",
    "else:\n",
    "    print(\"아! 말티푸구나.\")\n",
    "    is_yes = True\n",
    "print(is_yes)"
   ]
  },
  {
   "cell_type": "code",
   "execution_count": 23,
   "id": "830d31f0-f93f-4624-8506-37242a2bc2e4",
   "metadata": {},
   "outputs": [
    {
     "name": "stdout",
     "output_type": "stream",
     "text": [
      "[Error]\n",
      "continue\n"
     ]
    }
   ],
   "source": [
    "\"\"\"\n",
    "Exception Handling\n",
    "\"\"\"\n",
    "\n",
    "x = 1\n",
    "\n",
    "try:\n",
    "    print(y)\n",
    "    print(x)\n",
    "    \n",
    "except:\n",
    "    print(\"[Error]\")\n",
    "    \n",
    "print(\"continue\")"
   ]
  }
 ],
 "metadata": {
  "kernelspec": {
   "display_name": "Python 3",
   "language": "python",
   "name": "python3"
  },
  "language_info": {
   "codemirror_mode": {
    "name": "ipython",
    "version": 3
   },
   "file_extension": ".py",
   "mimetype": "text/x-python",
   "name": "python",
   "nbconvert_exporter": "python",
   "pygments_lexer": "ipython3",
   "version": "3.8.8"
  }
 },
 "nbformat": 4,
 "nbformat_minor": 5
}
