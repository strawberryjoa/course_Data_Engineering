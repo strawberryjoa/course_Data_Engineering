{
 "cells": [
  {
   "cell_type": "code",
   "execution_count": 35,
   "id": "320860b9-fe44-4e4d-b358-b3f7ddeb845d",
   "metadata": {},
   "outputs": [
    {
     "name": "stdout",
     "output_type": "stream",
     "text": [
      "[2, 3, 5, 7, 11, 2]\n",
      "[]\n"
     ]
    }
   ],
   "source": [
    "\"\"\"\n",
    "Lists\n",
    "\"\"\"\n",
    "\n",
    "primes = [2, 3, 5, 7, 11, 2] # 중복 허용\n",
    "print(primes)\n",
    "\n",
    "empty_list = []\n",
    "print(empty_list) # 리스트 객체 초기화"
   ]
  },
  {
   "cell_type": "code",
   "execution_count": 7,
   "id": "d46b5755-b9d2-40b3-94ea-71a009068a24",
   "metadata": {},
   "outputs": [
    {
     "name": "stdout",
     "output_type": "stream",
     "text": [
      "['Yumin', 4, 3.99, False]\n",
      "[['a', 1], ['b', 2]]\n"
     ]
    }
   ],
   "source": [
    "\"\"\"\n",
    "Multiple different data types\n",
    "\"\"\"\n",
    "mixed = ['Yumin', 4, 3.99, False]\n",
    "print(mixed)\n",
    "\n",
    "list_of_lists = [['a', 1], ['b', 2]] # sublist\n",
    "print(list_of_lists) "
   ]
  },
  {
   "cell_type": "code",
   "execution_count": 9,
   "id": "ece090c9-5174-4fad-aff6-68e81dc0cc6b",
   "metadata": {},
   "outputs": [
    {
     "name": "stdout",
     "output_type": "stream",
     "text": [
      "Pororo\n",
      "Tobot\n",
      "Jiwoo\n",
      "Bonobono\n"
     ]
    }
   ],
   "source": [
    "\"\"\"\n",
    "Zero-indexing\n",
    "\"\"\"\n",
    "\n",
    "names = ['Pororo', 'Tobot', 'Jiwoo', 'Bonobono']\n",
    "\n",
    "print(names[0]) # first data\n",
    "print(names[1]) # second data\n",
    "print(names[2]) # third data\n",
    "print(names[3]) # fourth data"
   ]
  },
  {
   "cell_type": "code",
   "execution_count": 15,
   "id": "50b7d242-1172-4669-9d26-8b96feabc7b5",
   "metadata": {},
   "outputs": [
    {
     "name": "stdout",
     "output_type": "stream",
     "text": [
      "Bonobono\n",
      "Jiwoo\n",
      "Tobot\n",
      "Pororo\n"
     ]
    }
   ],
   "source": [
    "\"\"\"\n",
    "Negative indexing\n",
    "\"\"\"\n",
    "print(names[-1]) # last data\n",
    "print(names[-2]) # second to last data\n",
    "print(names[-3]) # third to last data\n",
    "print(names[-4]) # fourth to last data"
   ]
  },
  {
   "cell_type": "code",
   "execution_count": 23,
   "id": "b508ec47-dc0e-42b4-a536-830d411eb0cb",
   "metadata": {},
   "outputs": [
    {
     "name": "stdout",
     "output_type": "stream",
     "text": [
      "['생활관', '필헌관', '소통관']\n",
      "['만우관', '장공관', '필헌관', '소통관', '송암관', '늦봄관', '장준하통일관']\n"
     ]
    }
   ],
   "source": [
    "\"\"\"\n",
    "List slicing\n",
    "\"\"\"\n",
    "hsu_buildings = ['만우관', '장공관', '필헌관', '소통관', '송암관', '늦봄관',\n",
    "                '장준하통일관']\n",
    "building_slice = hsu_buildings[1:4] # building_slice는 독립적인 객체\n",
    "building_slice[0] = '생활관'\n",
    "\n",
    "print(building_slice)\n",
    "print(hsu_buildings)"
   ]
  },
  {
   "cell_type": "code",
   "execution_count": 89,
   "id": "c3b4f1bb-7398-4104-86c0-e693c6532650",
   "metadata": {},
   "outputs": [
    {
     "name": "stdout",
     "output_type": "stream",
     "text": [
      "[['데이터엔지니어링', '전공', '안현 교수님'], ['운영체제', '전공', '조성호 교수님'], ['사회생활길잡이', '전공', '여협구 교수님'], ['과학의위대한순간들', '교양', '정태성 교수님']]\n",
      "['데이터엔지니어링', '전공', '김유민 교수님']\n"
     ]
    }
   ],
   "source": [
    "\"\"\"\n",
    "Multi-Dimensional Lists\n",
    "\"\"\"\n",
    "course = [['데이터엔지니어링', '전공', '안현 교수님'], ['운영체제', '전공', '조성호 교수님'], \n",
    "         ['사회생활길잡이', '전공', '여협구 교수님'], ['과학의위대한순간들', '교양', '정태성 교수님']]\n",
    "\n",
    "print(course)\n",
    "\n",
    "course[0][2] = '김유민 교수님'\n",
    "print(course[0])"
   ]
  },
  {
   "cell_type": "code",
   "execution_count": 92,
   "id": "51fe5a32-b595-4ea1-a5ed-ec7f72999b31",
   "metadata": {},
   "outputs": [
    {
     "name": "stdout",
     "output_type": "stream",
     "text": [
      "['아 집 가고 싶다', '너두?', '야나두']\n"
     ]
    }
   ],
   "source": [
    "\"\"\"\n",
    "Adding Lists Together\n",
    "\"\"\"\n",
    "\n",
    "items_one = ['아 집 가고 싶다', '너두?']\n",
    "items_two = ['야나두']\n",
    "\n",
    "total_items = items_one + items_two\n",
    "print(total_items)"
   ]
  },
  {
   "cell_type": "code",
   "execution_count": 115,
   "id": "d9f14fdc-d035-484e-8115-55c1be14fb16",
   "metadata": {},
   "outputs": [
    {
     "name": "stdout",
     "output_type": "stream",
     "text": [
      "6\n",
      "2\n",
      "['daisy', 'rose', 'freesia']\n",
      "['Yumin', 'Seonyeop', 'Maxim', 'Minseok', 'Jamin']\n",
      "['calculus', 'multivariate calculus', 'engineering mathematics']\n",
      "['calculus', 'engineering mathematics']\n",
      "[1, 3, 5, 7]\n",
      "['calculus', 'engineering Mathematics', 'linear algebra', 'multivariate calculus']\n",
      "[4, 7, 3, 1]\n",
      "[1, 3, 4, 7]\n"
     ]
    }
   ],
   "source": [
    "\"\"\"\n",
    "Useful Methonds for Lists\n",
    "\"\"\"\n",
    "\n",
    "# len() <- length\n",
    "knapsack = [3, 5, 71, 45]\n",
    "size = len(backpack)\n",
    "print(size)\n",
    "\n",
    "# count()\n",
    "backpack = ['pen', 'notebook', 'laptop', 'pencil', 'laptop', 'notebook']\n",
    "numLaptop = backpack.count('laptop')\n",
    "print(numLaptop)\n",
    "\n",
    "# oppend()\n",
    "orders = ['daisy','rose']\n",
    "orders.append('freesia')\n",
    "print(orders)\n",
    "\n",
    "# insert()\n",
    "store_line = ['Yumin', 'Maxim', 'Minseok', 'Jamin']\n",
    "store_line.insert(1, 'Seonyeop')\n",
    "print(store_line)\n",
    "\n",
    "# pop()\n",
    "math_subjects = ['calculus', 'linear algebra', 'multivariate calculus', 'engineering mathematics']\n",
    "math_subjects.pop(1)\n",
    "print(math_subjects)\n",
    "\n",
    "# remove()\n",
    "math_subjects.remove('multivariate calculus')\n",
    "print(math_subjects)\n",
    "\n",
    "# remove() exercise\n",
    "#math_subjects.remove('series')\n",
    "\n",
    "# sort()\n",
    "numbers = [5, 3, 7, 1]\n",
    "numbers.sort()\n",
    "print(numbers)\n",
    "\n",
    "math_subjects = ['calculus', 'linear algebra', 'multivariate calculus', 'engineering Mathematics']\n",
    "math_subjects.sort()\n",
    "print(math_subjects)\n",
    "\n",
    "# sorted()\n",
    "num = [4, 7, 3, 1]\n",
    "sorted_num = sorted(num)\n",
    "print(num)\n",
    "print(sorted_num)"
   ]
  }
 ],
 "metadata": {
  "kernelspec": {
   "display_name": "Python 3",
   "language": "python",
   "name": "python3"
  },
  "language_info": {
   "codemirror_mode": {
    "name": "ipython",
    "version": 3
   },
   "file_extension": ".py",
   "mimetype": "text/x-python",
   "name": "python",
   "nbconvert_exporter": "python",
   "pygments_lexer": "ipython3",
   "version": "3.8.8"
  }
 },
 "nbformat": 4,
 "nbformat_minor": 5
}
