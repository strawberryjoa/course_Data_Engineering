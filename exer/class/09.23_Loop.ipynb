{
 "cells": [
  {
   "cell_type": "code",
   "execution_count": 5,
   "id": "2d3fcfed-19c2-42e0-b2b2-270d122c5ed8",
   "metadata": {},
   "outputs": [
    {
     "name": "stdout",
     "output_type": "stream",
     "text": [
      "1\n",
      "2\n",
      "3\n",
      "4\n",
      "5\n",
      "0\n",
      "1\n",
      "2\n",
      "3\n",
      "4\n",
      "5\n",
      "6\n",
      "7\n",
      "8\n",
      "9\n"
     ]
    }
   ],
   "source": [
    "\"\"\"\n",
    "for Loops\n",
    "\"\"\"\n",
    "\n",
    "nums = [1, 2, 3, 4, 5]\n",
    "\n",
    "for num in nums:\n",
    "    print(num)\n",
    "\n",
    "# range()\n",
    "\n",
    "for i in range(10): # 0~9까지 반복\n",
    "    print(i)"
   ]
  },
  {
   "cell_type": "code",
   "execution_count": 7,
   "id": "b6f21e8a-4dbd-4558-a764-cfeb10e22b67",
   "metadata": {},
   "outputs": [
    {
     "name": "stdout",
     "output_type": "stream",
     "text": [
      "1\n",
      "6\n",
      "3\n",
      "3\n",
      "7\n",
      "8\n"
     ]
    }
   ],
   "source": [
    "\"\"\"\n",
    "continue Keyword\n",
    "\"\"\"\n",
    "nums = [1, 6, 3, -6, 3, -2, -10, 7, 8]\n",
    "\n",
    "for num in nums:\n",
    "    # if num is negative, we skip it.\n",
    "    if num < 0:\n",
    "        continue\n",
    "    print(num)"
   ]
  },
  {
   "cell_type": "code",
   "execution_count": 2,
   "id": "7f26f231-d9a5-48a5-bc3c-d151b6a17171",
   "metadata": {},
   "outputs": [
    {
     "name": "stdout",
     "output_type": "stream",
     "text": [
      "stage1 is complete.\n",
      "stage2 is complete.\n",
      "Game is Over...\n"
     ]
    }
   ],
   "source": [
    "\"\"\"\n",
    "break Keyword\n",
    "\"\"\"\n",
    "\n",
    "game_plays = ['stage1', 'stage2', 'gameover', 'stage4', 'stage5']\n",
    "\n",
    "for play in game_plays:\n",
    "    \n",
    "    if play == 'gameover':\n",
    "        print(\"Game is Over...\")\n",
    "        break\n",
    "    print(play + \" is complete.\")"
   ]
  },
  {
   "cell_type": "code",
   "execution_count": 6,
   "id": "fd634aed-61dc-424d-aa84-bf3d77513b72",
   "metadata": {},
   "outputs": [
    {
     "name": "stdout",
     "output_type": "stream",
     "text": [
      "[1, 2, 3, 4, 5, 6, 7, 8, 9, 10]\n"
     ]
    }
   ],
   "source": [
    "\"\"\"\n",
    "List Comprehension\n",
    "\"\"\"\n",
    "one_to_ten = [i+1 for i in range(10)]\n",
    "print(one_to_ten)"
   ]
  },
  {
   "cell_type": "code",
   "execution_count": 7,
   "id": "3e4d74bb-6c4e-430d-b849-bd5d539e0cf2",
   "metadata": {},
   "outputs": [
    {
     "name": "stdout",
     "output_type": "stream",
     "text": [
      "교수님한테 혼날 사람:\n",
      "['김민석', '이선엽', '이동천']\n"
     ]
    }
   ],
   "source": [
    "\"\"\"\n",
    "List comprehension including conditions\n",
    "\"\"\"\n",
    "\n",
    "gradebook = [['김유민', 'A+'], ['김민석', 'F'], ['이선엽', 'F'], ['이동천', 'F']]\n",
    "\n",
    "poors = [stu[0] for stu in gradebook if stu[1] == 'F']\n",
    "\n",
    "print(\"교수님한테 혼날 사람:\")\n",
    "print(poors)"
   ]
  },
  {
   "cell_type": "code",
   "execution_count": 20,
   "id": "cff5f1bc-18bc-418e-ad93-01332f2ae16b",
   "metadata": {},
   "outputs": [
    {
     "name": "stdout",
     "output_type": "stream",
     "text": [
      "1 X 1 = 1\n",
      "1 X 2 = 2\n",
      "1 X 3 = 3\n",
      "1 X 4 = 4\n",
      "1 X 5 = 5\n",
      "1 X 6 = 6\n",
      "1 X 7 = 7\n",
      "1 X 8 = 8\n",
      "1 X 9 = 9\n",
      "2 X 1 = 2\n",
      "2 X 2 = 4\n",
      "2 X 3 = 6\n",
      "2 X 4 = 8\n",
      "2 X 5 = 10\n",
      "2 X 6 = 12\n",
      "2 X 7 = 14\n",
      "2 X 8 = 16\n",
      "2 X 9 = 18\n",
      "3 X 1 = 3\n",
      "3 X 2 = 6\n",
      "3 X 3 = 9\n",
      "3 X 4 = 12\n",
      "3 X 5 = 15\n",
      "3 X 6 = 18\n",
      "3 X 7 = 21\n",
      "3 X 8 = 24\n",
      "3 X 9 = 27\n",
      "4 X 1 = 4\n",
      "4 X 2 = 8\n",
      "4 X 3 = 12\n",
      "4 X 4 = 16\n",
      "4 X 5 = 20\n",
      "4 X 6 = 24\n",
      "4 X 7 = 28\n",
      "4 X 8 = 32\n",
      "4 X 9 = 36\n",
      "5 X 1 = 5\n",
      "5 X 2 = 10\n",
      "5 X 3 = 15\n",
      "5 X 4 = 20\n",
      "5 X 5 = 25\n",
      "5 X 6 = 30\n",
      "5 X 7 = 35\n",
      "5 X 8 = 40\n",
      "5 X 9 = 45\n",
      "6 X 1 = 6\n",
      "6 X 2 = 12\n",
      "6 X 3 = 18\n",
      "6 X 4 = 24\n",
      "6 X 5 = 30\n",
      "6 X 6 = 36\n",
      "6 X 7 = 42\n",
      "6 X 8 = 48\n",
      "6 X 9 = 54\n",
      "7 X 1 = 7\n",
      "7 X 2 = 14\n",
      "7 X 3 = 21\n",
      "7 X 4 = 28\n",
      "7 X 5 = 35\n",
      "7 X 6 = 42\n",
      "7 X 7 = 49\n",
      "7 X 8 = 56\n",
      "7 X 9 = 63\n",
      "8 X 1 = 8\n",
      "8 X 2 = 16\n",
      "8 X 3 = 24\n",
      "8 X 4 = 32\n",
      "8 X 5 = 40\n",
      "8 X 6 = 48\n",
      "8 X 7 = 56\n",
      "8 X 8 = 64\n",
      "8 X 9 = 72\n",
      "9 X 1 = 9\n",
      "9 X 2 = 18\n",
      "9 X 3 = 27\n",
      "9 X 4 = 36\n",
      "9 X 5 = 45\n",
      "9 X 6 = 54\n",
      "9 X 7 = 63\n",
      "9 X 8 = 72\n",
      "9 X 9 = 81\n"
     ]
    }
   ],
   "source": [
    "\"\"\"\n",
    "Nested Loops\n",
    "\"\"\"\n",
    "\n",
    "# 구구단 프로그램 (1~9)\n",
    "one_to_nine = [i+1 for i in range(9)]\n",
    "\n",
    "for i in one_to_nine:\n",
    "    for j in one_to_nine:\n",
    "        print(\"%d X %d = %d\" % (i, j, i*j))"
   ]
  },
  {
   "cell_type": "code",
   "execution_count": 1,
   "id": "f6b6fdd6-d1aa-477a-b6d9-705bfe40557f",
   "metadata": {},
   "outputs": [
    {
     "name": "stdout",
     "output_type": "stream",
     "text": [
      "소고기냠냠\n",
      "돼지고기냠냠\n",
      "양고기냠냠\n",
      "먹기싫음.\n"
     ]
    }
   ],
   "source": [
    "\"\"\"\n",
    "while Loops\n",
    "\"\"\"\n",
    "foods_on_table = ['소고기', '돼지고기', '양고기', '닭고기', '말고기']\n",
    "foods_num = 5 # 음식 수\n",
    "ate_num = 0 # 먹은 음식 수\n",
    "\n",
    "while ate_num < 3:\n",
    "    print(foods_on_table[ate_num] + \" 냠냠\")\n",
    "    ate_num += 1\n",
    "    \n",
    "print(\"먹기싫음.\")"
   ]
  },
  {
   "cell_type": "code",
   "execution_count": 10,
   "id": "f8608c6f-7da5-4e02-8ccc-ef3f0fdba81c",
   "metadata": {},
   "outputs": [
    {
     "name": "stdout",
     "output_type": "stream",
     "text": [
      "Do something\n",
      "Do something\n",
      "Do something\n",
      "Do something\n"
     ]
    }
   ],
   "source": [
    "\"\"\"\n",
    "Infinite Loops\n",
    "\"\"\"\n",
    "\n",
    "x = 1\n",
    "y = 1\n",
    "while x < 5:\n",
    "    print(\"Do something\")\n",
    "    x += 1\n",
    "    \n",
    "    \"\"\"\n",
    "    y += 1\n",
    "    if y > 5:\n",
    "        print(\"Why doesn't it end?\")\n",
    "    \"\"\""
   ]
  }
 ],
 "metadata": {
  "kernelspec": {
   "display_name": "Python 3",
   "language": "python",
   "name": "python3"
  },
  "language_info": {
   "codemirror_mode": {
    "name": "ipython",
    "version": 3
   },
   "file_extension": ".py",
   "mimetype": "text/x-python",
   "name": "python",
   "nbconvert_exporter": "python",
   "pygments_lexer": "ipython3",
   "version": "3.8.8"
  }
 },
 "nbformat": 4,
 "nbformat_minor": 5
}
