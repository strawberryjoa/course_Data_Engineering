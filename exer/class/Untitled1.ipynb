{
 "cells": [
  {
   "cell_type": "code",
   "execution_count": 2,
   "id": "1ec46678",
   "metadata": {},
   "outputs": [
    {
     "name": "stdout",
     "output_type": "stream",
     "text": [
      "Requirement already satisfied: ipynb-py-convert in c:\\users\\yumin\\anaconda3\\lib\\site-packages (0.4.6)\n"
     ]
    }
   ],
   "source": [
    "! pip install ipynb-py-convert"
   ]
  },
  {
   "cell_type": "code",
   "execution_count": 4,
   "id": "314e547d",
   "metadata": {},
   "outputs": [
    {
     "name": "stderr",
     "output_type": "stream",
     "text": [
      "Traceback (most recent call last):\n",
      "  File \"c:\\users\\yumin\\anaconda3\\lib\\runpy.py\", line 194, in _run_module_as_main\n",
      "    return _run_code(code, main_globals, None,\n",
      "  File \"c:\\users\\yumin\\anaconda3\\lib\\runpy.py\", line 87, in _run_code\n",
      "    exec(code, run_globals)\n",
      "  File \"C:\\Users\\yumin\\anaconda3\\Scripts\\ipynb-py-convert.exe\\__main__.py\", line 7, in <module>\n",
      "  File \"c:\\users\\yumin\\anaconda3\\lib\\site-packages\\ipynb_py_convert\\__main__.py\", line 105, in main\n",
      "    convert(in_file=argv[1], out_file=argv[2])\n",
      "  File \"c:\\users\\yumin\\anaconda3\\lib\\site-packages\\ipynb_py_convert\\__main__.py\", line 95, in convert\n",
      "    raise(Exception('Extensions must be .ipynb and .py or vice versa'))\n",
      "Exception: Extensions must be .ipynb and .py or vice versa\n"
     ]
    }
   ],
   "source": [
    "! ipynb-py-convert feature_selection.py 17_feature_selection_ipynb"
   ]
  }
 ],
 "metadata": {
  "kernelspec": {
   "display_name": "Python 3",
   "language": "python",
   "name": "python3"
  },
  "language_info": {
   "codemirror_mode": {
    "name": "ipython",
    "version": 3
   },
   "file_extension": ".py",
   "mimetype": "text/x-python",
   "name": "python",
   "nbconvert_exporter": "python",
   "pygments_lexer": "ipython3",
   "version": "3.8.8"
  }
 },
 "nbformat": 4,
 "nbformat_minor": 5
}
