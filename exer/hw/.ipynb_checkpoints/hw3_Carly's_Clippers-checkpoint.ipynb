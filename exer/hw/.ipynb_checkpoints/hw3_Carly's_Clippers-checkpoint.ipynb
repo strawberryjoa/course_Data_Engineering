{
 "cells": [
  {
   "cell_type": "code",
   "execution_count": 163,
   "id": "c188eafc-6283-4849-be5e-df8891862d8c",
   "metadata": {},
   "outputs": [
    {
     "name": "stdout",
     "output_type": "stream",
     "text": [
      "255\n",
      "Average price is  31.875\n",
      "[25, 20, 35, 15, 15, 30, 45, 30]\n",
      "Total revenue is  1085\n",
      "Average daily revenue is  155.0\n",
      "['bouffant', 'pixie', 'crew', 'bowl']\n"
     ]
    }
   ],
   "source": [
    "\"\"\"\n",
    "Exercise 3: Carly's Clippers\n",
    "\"\"\"\n",
    "hairstyles = [\"bouffant\", \"pixie\", \"dreadlocks\", \"crew\", \"bowl\", \"bob\", \"mohawk\", \"flattop\"]\n",
    "prices = [30, 25, 40, 20, 20, 35, 50, 35]\n",
    "last_week = [2, 3, 5, 8, 4, 4, 6, 2]\n",
    "\n",
    "# Find the average price\n",
    "total_price = 0\n",
    "for temp in prices:\n",
    "    total_price += temp\n",
    "print(total_price)\n",
    "average_price = total_price / len(prices)\n",
    "print(\"Average price is \", average_price)\n",
    "\n",
    "# 5 dollars off\n",
    "new_prices = [temp-5 for temp in prices]\n",
    "print(new_prices)\n",
    "\n",
    "# Find total and average daily revenue\n",
    "total_revenue = 0\n",
    "for i in range(0, len(hairstyles)):\n",
    "    total_revenue += (prices[i] * last_week[i])\n",
    "print(\"Total revenue is \", total_revenue)\n",
    "average_daily_revenue = total_revenue / 7\n",
    "print(\"Average daily revenue is \", average_daily_revenue)\n",
    "\n",
    "# Find out haircuts under 30 dollars.\n",
    "cuts_under_30 = [hairstyles[i] for i in range(0, len(new_prices)-1) if new_prices[i] < 30] \n",
    "print(cuts_under_30)"
   ]
  }
 ],
 "metadata": {
  "kernelspec": {
   "display_name": "Python 3",
   "language": "python",
   "name": "python3"
  },
  "language_info": {
   "codemirror_mode": {
    "name": "ipython",
    "version": 3
   },
   "file_extension": ".py",
   "mimetype": "text/x-python",
   "name": "python",
   "nbconvert_exporter": "python",
   "pygments_lexer": "ipython3",
   "version": "3.8.8"
  }
 },
 "nbformat": 4,
 "nbformat_minor": 5
}
